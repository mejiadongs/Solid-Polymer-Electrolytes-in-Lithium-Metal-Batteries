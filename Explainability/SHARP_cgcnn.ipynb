{
 "cells": [
  {
   "cell_type": "code",
   "execution_count": 1,
   "metadata": {},
   "outputs": [
    {
     "name": "stderr",
     "output_type": "stream",
     "text": [
      "d:\\conda\\envs\\cgcnn\\Lib\\site-packages\\tqdm\\auto.py:21: TqdmWarning: IProgress not found. Please update jupyter and ipywidgets. See https://ipywidgets.readthedocs.io/en/stable/user_install.html\n",
      "  from .autonotebook import tqdm as notebook_tqdm\n",
      "d:\\conda\\envs\\cgcnn\\Lib\\site-packages\\pymatgen\\io\\cif.py:1224: UserWarning: Issues encountered while parsing CIF: 1 fractional coordinates rounded to ideal values to avoid issues with finite precision.\n",
      "  warnings.warn(\"Issues encountered while parsing CIF: \" + \"\\n\".join(self.warnings))\n",
      "c:\\Users\\ASUS\\Desktop\\文章整理_project2\\CGCNN\\cgcnn-master\\cgcnn\\data.py:333: UserWarning: C5FH4NO not find enough neighbors to build graph. If it happens frequently, consider increase radius.\n",
      "  warnings.warn('{} not find enough neighbors to build graph. '\n",
      "c:\\Users\\ASUS\\Desktop\\文章整理_project2\\CGCNN\\cgcnn-master\\cgcnn\\data.py:333: UserWarning: C5Cl2F2HNO not find enough neighbors to build graph. If it happens frequently, consider increase radius.\n",
      "  warnings.warn('{} not find enough neighbors to build graph. '\n",
      "c:\\Users\\ASUS\\Desktop\\文章整理_project2\\CGCNN\\cgcnn-master\\cgcnn\\data.py:333: UserWarning: C3F3H4NO not find enough neighbors to build graph. If it happens frequently, consider increase radius.\n",
      "  warnings.warn('{} not find enough neighbors to build graph. '\n",
      "c:\\Users\\ASUS\\Desktop\\文章整理_project2\\CGCNN\\cgcnn-master\\cgcnn\\data.py:333: UserWarning: C2ClF2H2NO not find enough neighbors to build graph. If it happens frequently, consider increase radius.\n",
      "  warnings.warn('{} not find enough neighbors to build graph. '\n",
      "c:\\Users\\ASUS\\Desktop\\文章整理_project2\\CGCNN\\cgcnn-master\\cgcnn\\data.py:333: UserWarning: C4FH3N2O not find enough neighbors to build graph. If it happens frequently, consider increase radius.\n",
      "  warnings.warn('{} not find enough neighbors to build graph. '\n",
      "c:\\Users\\ASUS\\Desktop\\文章整理_project2\\CGCNN\\cgcnn-master\\cgcnn\\data.py:333: UserWarning: C2F3H2NO not find enough neighbors to build graph. If it happens frequently, consider increase radius.\n",
      "  warnings.warn('{} not find enough neighbors to build graph. '\n",
      "c:\\Users\\ASUS\\Desktop\\文章整理_project2\\CGCNN\\cgcnn-master\\cgcnn\\data.py:333: UserWarning: C3F5H2NO not find enough neighbors to build graph. If it happens frequently, consider increase radius.\n",
      "  warnings.warn('{} not find enough neighbors to build graph. '\n"
     ]
    },
    {
     "name": "stdout",
     "output_type": "stream",
     "text": [
      "X_test shape: torch.Size([26087, 92])\n",
      "y_test shape: (711, 1)\n",
      "Shape of X_test[:100]: torch.Size([100, 92])\n",
      "Input data shape: torch.Size([1, 100, 92])\n",
      "fc_out.weight shape: torch.Size([1, 128])\n",
      "fc_out.bias shape: torch.Size([1])\n",
      "Padding input feature size from 92 to 128\n"
     ]
    },
    {
     "name": "stderr",
     "output_type": "stream",
     "text": [
      "  0%|          | 0/100 [00:00<?, ?it/s]"
     ]
    },
    {
     "name": "stdout",
     "output_type": "stream",
     "text": [
      "Input data shape: torch.Size([1, 1, 92])\n",
      "fc_out.weight shape: torch.Size([1, 128])\n",
      "fc_out.bias shape: torch.Size([1])\n",
      "Padding input feature size from 92 to 128\n",
      "Input data shape: torch.Size([1, 211600, 92])\n",
      "fc_out.weight shape: torch.Size([1, 128])\n",
      "fc_out.bias shape: torch.Size([1])\n",
      "Padding input feature size from 92 to 128\n"
     ]
    },
    {
     "name": "stderr",
     "output_type": "stream",
     "text": [
      "  1%|          | 1/100 [00:00<01:27,  1.13it/s]"
     ]
    },
    {
     "name": "stdout",
     "output_type": "stream",
     "text": [
      "Input data shape: torch.Size([1, 1, 92])\n",
      "fc_out.weight shape: torch.Size([1, 128])\n",
      "fc_out.bias shape: torch.Size([1])\n",
      "Padding input feature size from 92 to 128\n",
      "Input data shape: torch.Size([1, 211600, 92])\n",
      "fc_out.weight shape: torch.Size([1, 128])\n",
      "fc_out.bias shape: torch.Size([1])\n",
      "Padding input feature size from 92 to 128\n"
     ]
    },
    {
     "name": "stderr",
     "output_type": "stream",
     "text": [
      "  2%|▏         | 2/100 [00:01<01:26,  1.14it/s]"
     ]
    },
    {
     "name": "stdout",
     "output_type": "stream",
     "text": [
      "Input data shape: torch.Size([1, 1, 92])\n",
      "fc_out.weight shape: torch.Size([1, 128])\n",
      "fc_out.bias shape: torch.Size([1])\n",
      "Padding input feature size from 92 to 128\n",
      "Input data shape: torch.Size([1, 211600, 92])\n",
      "fc_out.weight shape: torch.Size([1, 128])\n",
      "fc_out.bias shape: torch.Size([1])\n",
      "Padding input feature size from 92 to 128\n"
     ]
    },
    {
     "name": "stderr",
     "output_type": "stream",
     "text": [
      "  3%|▎         | 3/100 [00:02<01:27,  1.11it/s]"
     ]
    },
    {
     "name": "stdout",
     "output_type": "stream",
     "text": [
      "Input data shape: torch.Size([1, 1, 92])\n",
      "fc_out.weight shape: torch.Size([1, 128])\n",
      "fc_out.bias shape: torch.Size([1])\n",
      "Padding input feature size from 92 to 128\n",
      "Input data shape: torch.Size([1, 211600, 92])\n",
      "fc_out.weight shape: torch.Size([1, 128])\n",
      "fc_out.bias shape: torch.Size([1])\n",
      "Padding input feature size from 92 to 128\n"
     ]
    },
    {
     "name": "stderr",
     "output_type": "stream",
     "text": [
      "  4%|▍         | 4/100 [00:03<01:26,  1.11it/s]"
     ]
    },
    {
     "name": "stdout",
     "output_type": "stream",
     "text": [
      "Input data shape: torch.Size([1, 1, 92])\n",
      "fc_out.weight shape: torch.Size([1, 128])\n",
      "fc_out.bias shape: torch.Size([1])\n",
      "Padding input feature size from 92 to 128\n",
      "Input data shape: torch.Size([1, 211600, 92])\n",
      "fc_out.weight shape: torch.Size([1, 128])\n",
      "fc_out.bias shape: torch.Size([1])\n",
      "Padding input feature size from 92 to 128\n"
     ]
    },
    {
     "name": "stderr",
     "output_type": "stream",
     "text": [
      "  5%|▌         | 5/100 [00:04<01:26,  1.10it/s]"
     ]
    },
    {
     "name": "stdout",
     "output_type": "stream",
     "text": [
      "Input data shape: torch.Size([1, 1, 92])\n",
      "fc_out.weight shape: torch.Size([1, 128])\n",
      "fc_out.bias shape: torch.Size([1])\n",
      "Padding input feature size from 92 to 128\n",
      "Input data shape: torch.Size([1, 211600, 92])\n",
      "fc_out.weight shape: torch.Size([1, 128])\n",
      "fc_out.bias shape: torch.Size([1])\n",
      "Padding input feature size from 92 to 128\n"
     ]
    },
    {
     "name": "stderr",
     "output_type": "stream",
     "text": [
      "  6%|▌         | 6/100 [00:05<01:26,  1.09it/s]"
     ]
    },
    {
     "name": "stdout",
     "output_type": "stream",
     "text": [
      "Input data shape: torch.Size([1, 1, 92])\n",
      "fc_out.weight shape: torch.Size([1, 128])\n",
      "fc_out.bias shape: torch.Size([1])\n",
      "Padding input feature size from 92 to 128\n",
      "Input data shape: torch.Size([1, 211600, 92])\n",
      "fc_out.weight shape: torch.Size([1, 128])\n",
      "fc_out.bias shape: torch.Size([1])\n",
      "Padding input feature size from 92 to 128\n"
     ]
    },
    {
     "name": "stderr",
     "output_type": "stream",
     "text": [
      "  7%|▋         | 7/100 [00:06<01:25,  1.09it/s]"
     ]
    },
    {
     "name": "stdout",
     "output_type": "stream",
     "text": [
      "Input data shape: torch.Size([1, 1, 92])\n",
      "fc_out.weight shape: torch.Size([1, 128])\n",
      "fc_out.bias shape: torch.Size([1])\n",
      "Padding input feature size from 92 to 128\n",
      "Input data shape: torch.Size([1, 211600, 92])\n",
      "fc_out.weight shape: torch.Size([1, 128])\n",
      "fc_out.bias shape: torch.Size([1])\n",
      "Padding input feature size from 92 to 128\n"
     ]
    },
    {
     "name": "stderr",
     "output_type": "stream",
     "text": [
      "  8%|▊         | 8/100 [00:07<01:25,  1.08it/s]"
     ]
    },
    {
     "name": "stdout",
     "output_type": "stream",
     "text": [
      "Input data shape: torch.Size([1, 1, 92])\n",
      "fc_out.weight shape: torch.Size([1, 128])\n",
      "fc_out.bias shape: torch.Size([1])\n",
      "Padding input feature size from 92 to 128\n",
      "Input data shape: torch.Size([1, 211600, 92])\n",
      "fc_out.weight shape: torch.Size([1, 128])\n",
      "fc_out.bias shape: torch.Size([1])\n",
      "Padding input feature size from 92 to 128\n"
     ]
    },
    {
     "name": "stderr",
     "output_type": "stream",
     "text": [
      "  9%|▉         | 9/100 [00:08<01:23,  1.09it/s]"
     ]
    },
    {
     "name": "stdout",
     "output_type": "stream",
     "text": [
      "Input data shape: torch.Size([1, 1, 92])\n",
      "fc_out.weight shape: torch.Size([1, 128])\n",
      "fc_out.bias shape: torch.Size([1])\n",
      "Padding input feature size from 92 to 128\n",
      "Input data shape: torch.Size([1, 211600, 92])\n",
      "fc_out.weight shape: torch.Size([1, 128])\n",
      "fc_out.bias shape: torch.Size([1])\n",
      "Padding input feature size from 92 to 128\n"
     ]
    },
    {
     "name": "stderr",
     "output_type": "stream",
     "text": [
      " 10%|█         | 10/100 [00:09<01:23,  1.07it/s]"
     ]
    },
    {
     "name": "stdout",
     "output_type": "stream",
     "text": [
      "Input data shape: torch.Size([1, 1, 92])\n",
      "fc_out.weight shape: torch.Size([1, 128])\n",
      "fc_out.bias shape: torch.Size([1])\n",
      "Padding input feature size from 92 to 128\n",
      "Input data shape: torch.Size([1, 211600, 92])\n",
      "fc_out.weight shape: torch.Size([1, 128])\n",
      "fc_out.bias shape: torch.Size([1])\n",
      "Padding input feature size from 92 to 128\n"
     ]
    },
    {
     "name": "stderr",
     "output_type": "stream",
     "text": [
      " 11%|█         | 11/100 [00:10<01:22,  1.08it/s]"
     ]
    },
    {
     "name": "stdout",
     "output_type": "stream",
     "text": [
      "Input data shape: torch.Size([1, 1, 92])\n",
      "fc_out.weight shape: torch.Size([1, 128])\n",
      "fc_out.bias shape: torch.Size([1])\n",
      "Padding input feature size from 92 to 128\n",
      "Input data shape: torch.Size([1, 211600, 92])\n",
      "fc_out.weight shape: torch.Size([1, 128])\n",
      "fc_out.bias shape: torch.Size([1])\n",
      "Padding input feature size from 92 to 128\n"
     ]
    },
    {
     "name": "stderr",
     "output_type": "stream",
     "text": [
      " 12%|█▏        | 12/100 [00:11<01:22,  1.07it/s]"
     ]
    },
    {
     "name": "stdout",
     "output_type": "stream",
     "text": [
      "Input data shape: torch.Size([1, 1, 92])\n",
      "fc_out.weight shape: torch.Size([1, 128])\n",
      "fc_out.bias shape: torch.Size([1])\n",
      "Padding input feature size from 92 to 128\n",
      "Input data shape: torch.Size([1, 211600, 92])\n",
      "fc_out.weight shape: torch.Size([1, 128])\n",
      "fc_out.bias shape: torch.Size([1])\n",
      "Padding input feature size from 92 to 128\n"
     ]
    },
    {
     "name": "stderr",
     "output_type": "stream",
     "text": [
      " 13%|█▎        | 13/100 [00:11<01:21,  1.07it/s]"
     ]
    },
    {
     "name": "stdout",
     "output_type": "stream",
     "text": [
      "Input data shape: torch.Size([1, 1, 92])\n",
      "fc_out.weight shape: torch.Size([1, 128])\n",
      "fc_out.bias shape: torch.Size([1])\n",
      "Padding input feature size from 92 to 128\n",
      "Input data shape: torch.Size([1, 211600, 92])\n",
      "fc_out.weight shape: torch.Size([1, 128])\n",
      "fc_out.bias shape: torch.Size([1])\n",
      "Padding input feature size from 92 to 128\n"
     ]
    },
    {
     "name": "stderr",
     "output_type": "stream",
     "text": [
      " 14%|█▍        | 14/100 [00:12<01:19,  1.08it/s]"
     ]
    },
    {
     "name": "stdout",
     "output_type": "stream",
     "text": [
      "Input data shape: torch.Size([1, 1, 92])\n",
      "fc_out.weight shape: torch.Size([1, 128])\n",
      "fc_out.bias shape: torch.Size([1])\n",
      "Padding input feature size from 92 to 128\n",
      "Input data shape: torch.Size([1, 211600, 92])\n",
      "fc_out.weight shape: torch.Size([1, 128])\n",
      "fc_out.bias shape: torch.Size([1])\n",
      "Padding input feature size from 92 to 128\n"
     ]
    },
    {
     "name": "stderr",
     "output_type": "stream",
     "text": [
      " 15%|█▌        | 15/100 [00:13<01:19,  1.07it/s]"
     ]
    },
    {
     "name": "stdout",
     "output_type": "stream",
     "text": [
      "Input data shape: torch.Size([1, 1, 92])\n",
      "fc_out.weight shape: torch.Size([1, 128])\n",
      "fc_out.bias shape: torch.Size([1])\n",
      "Padding input feature size from 92 to 128\n",
      "Input data shape: torch.Size([1, 211600, 92])\n",
      "fc_out.weight shape: torch.Size([1, 128])\n",
      "fc_out.bias shape: torch.Size([1])\n",
      "Padding input feature size from 92 to 128\n"
     ]
    },
    {
     "name": "stderr",
     "output_type": "stream",
     "text": [
      " 16%|█▌        | 16/100 [00:14<01:17,  1.08it/s]"
     ]
    },
    {
     "name": "stdout",
     "output_type": "stream",
     "text": [
      "Input data shape: torch.Size([1, 1, 92])\n",
      "fc_out.weight shape: torch.Size([1, 128])\n",
      "fc_out.bias shape: torch.Size([1])\n",
      "Padding input feature size from 92 to 128\n",
      "Input data shape: torch.Size([1, 211600, 92])\n",
      "fc_out.weight shape: torch.Size([1, 128])\n",
      "fc_out.bias shape: torch.Size([1])\n",
      "Padding input feature size from 92 to 128\n"
     ]
    },
    {
     "name": "stderr",
     "output_type": "stream",
     "text": [
      " 17%|█▋        | 17/100 [00:15<01:16,  1.09it/s]"
     ]
    },
    {
     "name": "stdout",
     "output_type": "stream",
     "text": [
      "Input data shape: torch.Size([1, 1, 92])\n",
      "fc_out.weight shape: torch.Size([1, 128])\n",
      "fc_out.bias shape: torch.Size([1])\n",
      "Padding input feature size from 92 to 128\n",
      "Input data shape: torch.Size([1, 211600, 92])\n",
      "fc_out.weight shape: torch.Size([1, 128])\n",
      "fc_out.bias shape: torch.Size([1])\n",
      "Padding input feature size from 92 to 128\n"
     ]
    },
    {
     "name": "stderr",
     "output_type": "stream",
     "text": [
      " 18%|█▊        | 18/100 [00:16<01:14,  1.09it/s]"
     ]
    },
    {
     "name": "stdout",
     "output_type": "stream",
     "text": [
      "Input data shape: torch.Size([1, 1, 92])\n",
      "fc_out.weight shape: torch.Size([1, 128])\n",
      "fc_out.bias shape: torch.Size([1])\n",
      "Padding input feature size from 92 to 128\n",
      "Input data shape: torch.Size([1, 211600, 92])\n",
      "fc_out.weight shape: torch.Size([1, 128])\n",
      "fc_out.bias shape: torch.Size([1])\n",
      "Padding input feature size from 92 to 128\n"
     ]
    },
    {
     "name": "stderr",
     "output_type": "stream",
     "text": [
      " 19%|█▉        | 19/100 [00:17<01:14,  1.09it/s]"
     ]
    },
    {
     "name": "stdout",
     "output_type": "stream",
     "text": [
      "Input data shape: torch.Size([1, 1, 92])\n",
      "fc_out.weight shape: torch.Size([1, 128])\n",
      "fc_out.bias shape: torch.Size([1])\n",
      "Padding input feature size from 92 to 128\n",
      "Input data shape: torch.Size([1, 211600, 92])\n",
      "fc_out.weight shape: torch.Size([1, 128])\n",
      "fc_out.bias shape: torch.Size([1])\n",
      "Padding input feature size from 92 to 128\n"
     ]
    },
    {
     "name": "stderr",
     "output_type": "stream",
     "text": [
      " 20%|██        | 20/100 [00:18<01:14,  1.07it/s]"
     ]
    },
    {
     "name": "stdout",
     "output_type": "stream",
     "text": [
      "Input data shape: torch.Size([1, 1, 92])\n",
      "fc_out.weight shape: torch.Size([1, 128])\n",
      "fc_out.bias shape: torch.Size([1])\n",
      "Padding input feature size from 92 to 128\n",
      "Input data shape: torch.Size([1, 211600, 92])\n",
      "fc_out.weight shape: torch.Size([1, 128])\n",
      "fc_out.bias shape: torch.Size([1])\n",
      "Padding input feature size from 92 to 128\n"
     ]
    },
    {
     "name": "stderr",
     "output_type": "stream",
     "text": [
      " 21%|██        | 21/100 [00:19<01:13,  1.07it/s]"
     ]
    },
    {
     "name": "stdout",
     "output_type": "stream",
     "text": [
      "Input data shape: torch.Size([1, 1, 92])\n",
      "fc_out.weight shape: torch.Size([1, 128])\n",
      "fc_out.bias shape: torch.Size([1])\n",
      "Padding input feature size from 92 to 128\n",
      "Input data shape: torch.Size([1, 211600, 92])\n",
      "fc_out.weight shape: torch.Size([1, 128])\n",
      "fc_out.bias shape: torch.Size([1])\n",
      "Padding input feature size from 92 to 128\n"
     ]
    },
    {
     "name": "stderr",
     "output_type": "stream",
     "text": [
      " 22%|██▏       | 22/100 [00:20<01:13,  1.06it/s]"
     ]
    },
    {
     "name": "stdout",
     "output_type": "stream",
     "text": [
      "Input data shape: torch.Size([1, 1, 92])\n",
      "fc_out.weight shape: torch.Size([1, 128])\n",
      "fc_out.bias shape: torch.Size([1])\n",
      "Padding input feature size from 92 to 128\n",
      "Input data shape: torch.Size([1, 211600, 92])\n",
      "fc_out.weight shape: torch.Size([1, 128])\n",
      "fc_out.bias shape: torch.Size([1])\n",
      "Padding input feature size from 92 to 128\n"
     ]
    },
    {
     "name": "stderr",
     "output_type": "stream",
     "text": [
      " 23%|██▎       | 23/100 [00:21<01:12,  1.06it/s]"
     ]
    },
    {
     "name": "stdout",
     "output_type": "stream",
     "text": [
      "Input data shape: torch.Size([1, 1, 92])\n",
      "fc_out.weight shape: torch.Size([1, 128])\n",
      "fc_out.bias shape: torch.Size([1])\n",
      "Padding input feature size from 92 to 128\n",
      "Input data shape: torch.Size([1, 211600, 92])\n",
      "fc_out.weight shape: torch.Size([1, 128])\n",
      "fc_out.bias shape: torch.Size([1])\n",
      "Padding input feature size from 92 to 128\n"
     ]
    },
    {
     "name": "stderr",
     "output_type": "stream",
     "text": [
      " 24%|██▍       | 24/100 [00:22<01:11,  1.06it/s]"
     ]
    },
    {
     "name": "stdout",
     "output_type": "stream",
     "text": [
      "Input data shape: torch.Size([1, 1, 92])\n",
      "fc_out.weight shape: torch.Size([1, 128])\n",
      "fc_out.bias shape: torch.Size([1])\n",
      "Padding input feature size from 92 to 128\n",
      "Input data shape: torch.Size([1, 211600, 92])\n",
      "fc_out.weight shape: torch.Size([1, 128])\n",
      "fc_out.bias shape: torch.Size([1])\n",
      "Padding input feature size from 92 to 128\n"
     ]
    },
    {
     "name": "stderr",
     "output_type": "stream",
     "text": [
      " 25%|██▌       | 25/100 [00:23<01:10,  1.06it/s]"
     ]
    },
    {
     "name": "stdout",
     "output_type": "stream",
     "text": [
      "Input data shape: torch.Size([1, 1, 92])\n",
      "fc_out.weight shape: torch.Size([1, 128])\n",
      "fc_out.bias shape: torch.Size([1])\n",
      "Padding input feature size from 92 to 128\n",
      "Input data shape: torch.Size([1, 211600, 92])\n",
      "fc_out.weight shape: torch.Size([1, 128])\n",
      "fc_out.bias shape: torch.Size([1])\n",
      "Padding input feature size from 92 to 128\n"
     ]
    },
    {
     "name": "stderr",
     "output_type": "stream",
     "text": [
      " 26%|██▌       | 26/100 [00:24<01:10,  1.04it/s]"
     ]
    },
    {
     "name": "stdout",
     "output_type": "stream",
     "text": [
      "Input data shape: torch.Size([1, 1, 92])\n",
      "fc_out.weight shape: torch.Size([1, 128])\n",
      "fc_out.bias shape: torch.Size([1])\n",
      "Padding input feature size from 92 to 128\n",
      "Input data shape: torch.Size([1, 211600, 92])\n",
      "fc_out.weight shape: torch.Size([1, 128])\n",
      "fc_out.bias shape: torch.Size([1])\n",
      "Padding input feature size from 92 to 128\n"
     ]
    },
    {
     "name": "stderr",
     "output_type": "stream",
     "text": [
      " 27%|██▋       | 27/100 [00:25<01:11,  1.03it/s]"
     ]
    },
    {
     "name": "stdout",
     "output_type": "stream",
     "text": [
      "Input data shape: torch.Size([1, 1, 92])\n",
      "fc_out.weight shape: torch.Size([1, 128])\n",
      "fc_out.bias shape: torch.Size([1])\n",
      "Padding input feature size from 92 to 128\n",
      "Input data shape: torch.Size([1, 211600, 92])\n",
      "fc_out.weight shape: torch.Size([1, 128])\n",
      "fc_out.bias shape: torch.Size([1])\n",
      "Padding input feature size from 92 to 128\n"
     ]
    },
    {
     "name": "stderr",
     "output_type": "stream",
     "text": [
      " 28%|██▊       | 28/100 [00:26<01:10,  1.02it/s]"
     ]
    },
    {
     "name": "stdout",
     "output_type": "stream",
     "text": [
      "Input data shape: torch.Size([1, 1, 92])\n",
      "fc_out.weight shape: torch.Size([1, 128])\n",
      "fc_out.bias shape: torch.Size([1])\n",
      "Padding input feature size from 92 to 128\n",
      "Input data shape: torch.Size([1, 211600, 92])\n",
      "fc_out.weight shape: torch.Size([1, 128])\n",
      "fc_out.bias shape: torch.Size([1])\n",
      "Padding input feature size from 92 to 128\n"
     ]
    },
    {
     "name": "stderr",
     "output_type": "stream",
     "text": [
      " 29%|██▉       | 29/100 [00:27<01:08,  1.03it/s]"
     ]
    },
    {
     "name": "stdout",
     "output_type": "stream",
     "text": [
      "Input data shape: torch.Size([1, 1, 92])\n",
      "fc_out.weight shape: torch.Size([1, 128])\n",
      "fc_out.bias shape: torch.Size([1])\n",
      "Padding input feature size from 92 to 128\n",
      "Input data shape: torch.Size([1, 211600, 92])\n",
      "fc_out.weight shape: torch.Size([1, 128])\n",
      "fc_out.bias shape: torch.Size([1])\n",
      "Padding input feature size from 92 to 128\n"
     ]
    },
    {
     "name": "stderr",
     "output_type": "stream",
     "text": [
      " 30%|███       | 30/100 [00:28<01:06,  1.05it/s]"
     ]
    },
    {
     "name": "stdout",
     "output_type": "stream",
     "text": [
      "Input data shape: torch.Size([1, 1, 92])\n",
      "fc_out.weight shape: torch.Size([1, 128])\n",
      "fc_out.bias shape: torch.Size([1])\n",
      "Padding input feature size from 92 to 128\n",
      "Input data shape: torch.Size([1, 211600, 92])\n",
      "fc_out.weight shape: torch.Size([1, 128])\n",
      "fc_out.bias shape: torch.Size([1])\n",
      "Padding input feature size from 92 to 128\n"
     ]
    },
    {
     "name": "stderr",
     "output_type": "stream",
     "text": [
      " 31%|███       | 31/100 [00:28<01:05,  1.05it/s]"
     ]
    },
    {
     "name": "stdout",
     "output_type": "stream",
     "text": [
      "Input data shape: torch.Size([1, 1, 92])\n",
      "fc_out.weight shape: torch.Size([1, 128])\n",
      "fc_out.bias shape: torch.Size([1])\n",
      "Padding input feature size from 92 to 128\n",
      "Input data shape: torch.Size([1, 211600, 92])\n",
      "fc_out.weight shape: torch.Size([1, 128])\n",
      "fc_out.bias shape: torch.Size([1])\n",
      "Padding input feature size from 92 to 128\n"
     ]
    },
    {
     "name": "stderr",
     "output_type": "stream",
     "text": [
      " 32%|███▏      | 32/100 [00:29<01:04,  1.06it/s]"
     ]
    },
    {
     "name": "stdout",
     "output_type": "stream",
     "text": [
      "Input data shape: torch.Size([1, 1, 92])\n",
      "fc_out.weight shape: torch.Size([1, 128])\n",
      "fc_out.bias shape: torch.Size([1])\n",
      "Padding input feature size from 92 to 128\n",
      "Input data shape: torch.Size([1, 211600, 92])\n",
      "fc_out.weight shape: torch.Size([1, 128])\n",
      "fc_out.bias shape: torch.Size([1])\n",
      "Padding input feature size from 92 to 128\n"
     ]
    },
    {
     "name": "stderr",
     "output_type": "stream",
     "text": [
      " 33%|███▎      | 33/100 [00:30<01:02,  1.07it/s]"
     ]
    },
    {
     "name": "stdout",
     "output_type": "stream",
     "text": [
      "Input data shape: torch.Size([1, 1, 92])\n",
      "fc_out.weight shape: torch.Size([1, 128])\n",
      "fc_out.bias shape: torch.Size([1])\n",
      "Padding input feature size from 92 to 128\n",
      "Input data shape: torch.Size([1, 211600, 92])\n",
      "fc_out.weight shape: torch.Size([1, 128])\n",
      "fc_out.bias shape: torch.Size([1])\n",
      "Padding input feature size from 92 to 128\n"
     ]
    },
    {
     "name": "stderr",
     "output_type": "stream",
     "text": [
      " 34%|███▍      | 34/100 [00:31<01:01,  1.08it/s]"
     ]
    },
    {
     "name": "stdout",
     "output_type": "stream",
     "text": [
      "Input data shape: torch.Size([1, 1, 92])\n",
      "fc_out.weight shape: torch.Size([1, 128])\n",
      "fc_out.bias shape: torch.Size([1])\n",
      "Padding input feature size from 92 to 128\n",
      "Input data shape: torch.Size([1, 211600, 92])\n",
      "fc_out.weight shape: torch.Size([1, 128])\n",
      "fc_out.bias shape: torch.Size([1])\n",
      "Padding input feature size from 92 to 128\n"
     ]
    },
    {
     "name": "stderr",
     "output_type": "stream",
     "text": [
      " 35%|███▌      | 35/100 [00:32<00:59,  1.09it/s]"
     ]
    },
    {
     "name": "stdout",
     "output_type": "stream",
     "text": [
      "Input data shape: torch.Size([1, 1, 92])\n",
      "fc_out.weight shape: torch.Size([1, 128])\n",
      "fc_out.bias shape: torch.Size([1])\n",
      "Padding input feature size from 92 to 128\n",
      "Input data shape: torch.Size([1, 211600, 92])\n",
      "fc_out.weight shape: torch.Size([1, 128])\n",
      "fc_out.bias shape: torch.Size([1])\n",
      "Padding input feature size from 92 to 128\n"
     ]
    },
    {
     "name": "stderr",
     "output_type": "stream",
     "text": [
      " 36%|███▌      | 36/100 [00:33<00:59,  1.08it/s]"
     ]
    },
    {
     "name": "stdout",
     "output_type": "stream",
     "text": [
      "Input data shape: torch.Size([1, 1, 92])\n",
      "fc_out.weight shape: torch.Size([1, 128])\n",
      "fc_out.bias shape: torch.Size([1])\n",
      "Padding input feature size from 92 to 128\n",
      "Input data shape: torch.Size([1, 211600, 92])\n",
      "fc_out.weight shape: torch.Size([1, 128])\n",
      "fc_out.bias shape: torch.Size([1])\n",
      "Padding input feature size from 92 to 128\n"
     ]
    },
    {
     "name": "stderr",
     "output_type": "stream",
     "text": [
      " 37%|███▋      | 37/100 [00:34<00:58,  1.08it/s]"
     ]
    },
    {
     "name": "stdout",
     "output_type": "stream",
     "text": [
      "Input data shape: torch.Size([1, 1, 92])\n",
      "fc_out.weight shape: torch.Size([1, 128])\n",
      "fc_out.bias shape: torch.Size([1])\n",
      "Padding input feature size from 92 to 128\n",
      "Input data shape: torch.Size([1, 211600, 92])\n",
      "fc_out.weight shape: torch.Size([1, 128])\n",
      "fc_out.bias shape: torch.Size([1])\n",
      "Padding input feature size from 92 to 128\n"
     ]
    },
    {
     "name": "stderr",
     "output_type": "stream",
     "text": [
      " 38%|███▊      | 38/100 [00:35<00:57,  1.07it/s]"
     ]
    },
    {
     "name": "stdout",
     "output_type": "stream",
     "text": [
      "Input data shape: torch.Size([1, 1, 92])\n",
      "fc_out.weight shape: torch.Size([1, 128])\n",
      "fc_out.bias shape: torch.Size([1])\n",
      "Padding input feature size from 92 to 128\n",
      "Input data shape: torch.Size([1, 211600, 92])\n",
      "fc_out.weight shape: torch.Size([1, 128])\n",
      "fc_out.bias shape: torch.Size([1])\n",
      "Padding input feature size from 92 to 128\n"
     ]
    },
    {
     "name": "stderr",
     "output_type": "stream",
     "text": [
      " 39%|███▉      | 39/100 [00:36<00:57,  1.07it/s]"
     ]
    },
    {
     "name": "stdout",
     "output_type": "stream",
     "text": [
      "Input data shape: torch.Size([1, 1, 92])\n",
      "fc_out.weight shape: torch.Size([1, 128])\n",
      "fc_out.bias shape: torch.Size([1])\n",
      "Padding input feature size from 92 to 128\n",
      "Input data shape: torch.Size([1, 211600, 92])\n",
      "fc_out.weight shape: torch.Size([1, 128])\n",
      "fc_out.bias shape: torch.Size([1])\n",
      "Padding input feature size from 92 to 128\n"
     ]
    },
    {
     "name": "stderr",
     "output_type": "stream",
     "text": [
      " 40%|████      | 40/100 [00:37<00:55,  1.07it/s]"
     ]
    },
    {
     "name": "stdout",
     "output_type": "stream",
     "text": [
      "Input data shape: torch.Size([1, 1, 92])\n",
      "fc_out.weight shape: torch.Size([1, 128])\n",
      "fc_out.bias shape: torch.Size([1])\n",
      "Padding input feature size from 92 to 128\n",
      "Input data shape: torch.Size([1, 211600, 92])\n",
      "fc_out.weight shape: torch.Size([1, 128])\n",
      "fc_out.bias shape: torch.Size([1])\n",
      "Padding input feature size from 92 to 128\n"
     ]
    },
    {
     "name": "stderr",
     "output_type": "stream",
     "text": [
      " 41%|████      | 41/100 [00:38<00:55,  1.05it/s]"
     ]
    },
    {
     "name": "stdout",
     "output_type": "stream",
     "text": [
      "Input data shape: torch.Size([1, 1, 92])\n",
      "fc_out.weight shape: torch.Size([1, 128])\n",
      "fc_out.bias shape: torch.Size([1])\n",
      "Padding input feature size from 92 to 128\n",
      "Input data shape: torch.Size([1, 211600, 92])\n",
      "fc_out.weight shape: torch.Size([1, 128])\n",
      "fc_out.bias shape: torch.Size([1])\n",
      "Padding input feature size from 92 to 128\n"
     ]
    },
    {
     "name": "stderr",
     "output_type": "stream",
     "text": [
      " 42%|████▏     | 42/100 [00:39<00:57,  1.01it/s]"
     ]
    },
    {
     "name": "stdout",
     "output_type": "stream",
     "text": [
      "Input data shape: torch.Size([1, 1, 92])\n",
      "fc_out.weight shape: torch.Size([1, 128])\n",
      "fc_out.bias shape: torch.Size([1])\n",
      "Padding input feature size from 92 to 128\n",
      "Input data shape: torch.Size([1, 211600, 92])\n",
      "fc_out.weight shape: torch.Size([1, 128])\n",
      "fc_out.bias shape: torch.Size([1])\n",
      "Padding input feature size from 92 to 128\n"
     ]
    },
    {
     "name": "stderr",
     "output_type": "stream",
     "text": [
      " 43%|████▎     | 43/100 [00:40<00:56,  1.01it/s]"
     ]
    },
    {
     "name": "stdout",
     "output_type": "stream",
     "text": [
      "Input data shape: torch.Size([1, 1, 92])\n",
      "fc_out.weight shape: torch.Size([1, 128])\n",
      "fc_out.bias shape: torch.Size([1])\n",
      "Padding input feature size from 92 to 128\n",
      "Input data shape: torch.Size([1, 211600, 92])\n",
      "fc_out.weight shape: torch.Size([1, 128])\n",
      "fc_out.bias shape: torch.Size([1])\n",
      "Padding input feature size from 92 to 128\n"
     ]
    },
    {
     "name": "stderr",
     "output_type": "stream",
     "text": [
      " 44%|████▍     | 44/100 [00:41<00:55,  1.01it/s]"
     ]
    },
    {
     "name": "stdout",
     "output_type": "stream",
     "text": [
      "Input data shape: torch.Size([1, 1, 92])\n",
      "fc_out.weight shape: torch.Size([1, 128])\n",
      "fc_out.bias shape: torch.Size([1])\n",
      "Padding input feature size from 92 to 128\n",
      "Input data shape: torch.Size([1, 211600, 92])\n",
      "fc_out.weight shape: torch.Size([1, 128])\n",
      "fc_out.bias shape: torch.Size([1])\n",
      "Padding input feature size from 92 to 128\n"
     ]
    },
    {
     "name": "stderr",
     "output_type": "stream",
     "text": [
      " 45%|████▌     | 45/100 [00:42<00:53,  1.02it/s]"
     ]
    },
    {
     "name": "stdout",
     "output_type": "stream",
     "text": [
      "Input data shape: torch.Size([1, 1, 92])\n",
      "fc_out.weight shape: torch.Size([1, 128])\n",
      "fc_out.bias shape: torch.Size([1])\n",
      "Padding input feature size from 92 to 128\n",
      "Input data shape: torch.Size([1, 211600, 92])\n",
      "fc_out.weight shape: torch.Size([1, 128])\n",
      "fc_out.bias shape: torch.Size([1])\n",
      "Padding input feature size from 92 to 128\n"
     ]
    },
    {
     "name": "stderr",
     "output_type": "stream",
     "text": [
      " 46%|████▌     | 46/100 [00:43<00:53,  1.01it/s]"
     ]
    },
    {
     "name": "stdout",
     "output_type": "stream",
     "text": [
      "Input data shape: torch.Size([1, 1, 92])\n",
      "fc_out.weight shape: torch.Size([1, 128])\n",
      "fc_out.bias shape: torch.Size([1])\n",
      "Padding input feature size from 92 to 128\n",
      "Input data shape: torch.Size([1, 211600, 92])\n",
      "fc_out.weight shape: torch.Size([1, 128])\n",
      "fc_out.bias shape: torch.Size([1])\n",
      "Padding input feature size from 92 to 128\n"
     ]
    },
    {
     "name": "stderr",
     "output_type": "stream",
     "text": [
      " 47%|████▋     | 47/100 [00:44<00:51,  1.02it/s]"
     ]
    },
    {
     "name": "stdout",
     "output_type": "stream",
     "text": [
      "Input data shape: torch.Size([1, 1, 92])\n",
      "fc_out.weight shape: torch.Size([1, 128])\n",
      "fc_out.bias shape: torch.Size([1])\n",
      "Padding input feature size from 92 to 128\n",
      "Input data shape: torch.Size([1, 211600, 92])\n",
      "fc_out.weight shape: torch.Size([1, 128])\n",
      "fc_out.bias shape: torch.Size([1])\n",
      "Padding input feature size from 92 to 128\n"
     ]
    },
    {
     "name": "stderr",
     "output_type": "stream",
     "text": [
      " 48%|████▊     | 48/100 [00:45<00:49,  1.04it/s]"
     ]
    },
    {
     "name": "stdout",
     "output_type": "stream",
     "text": [
      "Input data shape: torch.Size([1, 1, 92])\n",
      "fc_out.weight shape: torch.Size([1, 128])\n",
      "fc_out.bias shape: torch.Size([1])\n",
      "Padding input feature size from 92 to 128\n",
      "Input data shape: torch.Size([1, 211600, 92])\n",
      "fc_out.weight shape: torch.Size([1, 128])\n",
      "fc_out.bias shape: torch.Size([1])\n",
      "Padding input feature size from 92 to 128\n"
     ]
    },
    {
     "name": "stderr",
     "output_type": "stream",
     "text": [
      " 49%|████▉     | 49/100 [00:46<00:48,  1.05it/s]"
     ]
    },
    {
     "name": "stdout",
     "output_type": "stream",
     "text": [
      "Input data shape: torch.Size([1, 1, 92])\n",
      "fc_out.weight shape: torch.Size([1, 128])\n",
      "fc_out.bias shape: torch.Size([1])\n",
      "Padding input feature size from 92 to 128\n",
      "Input data shape: torch.Size([1, 211600, 92])\n",
      "fc_out.weight shape: torch.Size([1, 128])\n",
      "fc_out.bias shape: torch.Size([1])\n",
      "Padding input feature size from 92 to 128\n"
     ]
    },
    {
     "name": "stderr",
     "output_type": "stream",
     "text": [
      " 50%|█████     | 50/100 [00:47<00:48,  1.03it/s]"
     ]
    },
    {
     "name": "stdout",
     "output_type": "stream",
     "text": [
      "Input data shape: torch.Size([1, 1, 92])\n",
      "fc_out.weight shape: torch.Size([1, 128])\n",
      "fc_out.bias shape: torch.Size([1])\n",
      "Padding input feature size from 92 to 128\n",
      "Input data shape: torch.Size([1, 211600, 92])\n",
      "fc_out.weight shape: torch.Size([1, 128])\n",
      "fc_out.bias shape: torch.Size([1])\n",
      "Padding input feature size from 92 to 128\n"
     ]
    },
    {
     "name": "stderr",
     "output_type": "stream",
     "text": [
      " 51%|█████     | 51/100 [00:48<00:48,  1.01it/s]"
     ]
    },
    {
     "name": "stdout",
     "output_type": "stream",
     "text": [
      "Input data shape: torch.Size([1, 1, 92])\n",
      "fc_out.weight shape: torch.Size([1, 128])\n",
      "fc_out.bias shape: torch.Size([1])\n",
      "Padding input feature size from 92 to 128\n",
      "Input data shape: torch.Size([1, 211600, 92])\n",
      "fc_out.weight shape: torch.Size([1, 128])\n",
      "fc_out.bias shape: torch.Size([1])\n",
      "Padding input feature size from 92 to 128\n"
     ]
    },
    {
     "name": "stderr",
     "output_type": "stream",
     "text": [
      " 52%|█████▏    | 52/100 [00:49<00:48,  1.02s/it]"
     ]
    },
    {
     "name": "stdout",
     "output_type": "stream",
     "text": [
      "Input data shape: torch.Size([1, 1, 92])\n",
      "fc_out.weight shape: torch.Size([1, 128])\n",
      "fc_out.bias shape: torch.Size([1])\n",
      "Padding input feature size from 92 to 128\n",
      "Input data shape: torch.Size([1, 211600, 92])\n",
      "fc_out.weight shape: torch.Size([1, 128])\n",
      "fc_out.bias shape: torch.Size([1])\n",
      "Padding input feature size from 92 to 128\n"
     ]
    },
    {
     "name": "stderr",
     "output_type": "stream",
     "text": [
      " 53%|█████▎    | 53/100 [00:50<00:48,  1.03s/it]"
     ]
    },
    {
     "name": "stdout",
     "output_type": "stream",
     "text": [
      "Input data shape: torch.Size([1, 1, 92])\n",
      "fc_out.weight shape: torch.Size([1, 128])\n",
      "fc_out.bias shape: torch.Size([1])\n",
      "Padding input feature size from 92 to 128\n",
      "Input data shape: torch.Size([1, 211600, 92])\n",
      "fc_out.weight shape: torch.Size([1, 128])\n",
      "fc_out.bias shape: torch.Size([1])\n",
      "Padding input feature size from 92 to 128\n"
     ]
    },
    {
     "name": "stderr",
     "output_type": "stream",
     "text": [
      " 54%|█████▍    | 54/100 [00:51<00:48,  1.06s/it]"
     ]
    },
    {
     "name": "stdout",
     "output_type": "stream",
     "text": [
      "Input data shape: torch.Size([1, 1, 92])\n",
      "fc_out.weight shape: torch.Size([1, 128])\n",
      "fc_out.bias shape: torch.Size([1])\n",
      "Padding input feature size from 92 to 128\n",
      "Input data shape: torch.Size([1, 211600, 92])\n",
      "fc_out.weight shape: torch.Size([1, 128])\n",
      "fc_out.bias shape: torch.Size([1])\n",
      "Padding input feature size from 92 to 128\n"
     ]
    },
    {
     "name": "stderr",
     "output_type": "stream",
     "text": [
      " 55%|█████▌    | 55/100 [00:52<00:47,  1.05s/it]"
     ]
    },
    {
     "name": "stdout",
     "output_type": "stream",
     "text": [
      "Input data shape: torch.Size([1, 1, 92])\n",
      "fc_out.weight shape: torch.Size([1, 128])\n",
      "fc_out.bias shape: torch.Size([1])\n",
      "Padding input feature size from 92 to 128\n",
      "Input data shape: torch.Size([1, 211600, 92])\n",
      "fc_out.weight shape: torch.Size([1, 128])\n",
      "fc_out.bias shape: torch.Size([1])\n",
      "Padding input feature size from 92 to 128\n"
     ]
    },
    {
     "name": "stderr",
     "output_type": "stream",
     "text": [
      " 56%|█████▌    | 56/100 [00:53<00:44,  1.02s/it]"
     ]
    },
    {
     "name": "stdout",
     "output_type": "stream",
     "text": [
      "Input data shape: torch.Size([1, 1, 92])\n",
      "fc_out.weight shape: torch.Size([1, 128])\n",
      "fc_out.bias shape: torch.Size([1])\n",
      "Padding input feature size from 92 to 128\n",
      "Input data shape: torch.Size([1, 211600, 92])\n",
      "fc_out.weight shape: torch.Size([1, 128])\n",
      "fc_out.bias shape: torch.Size([1])\n",
      "Padding input feature size from 92 to 128\n"
     ]
    },
    {
     "name": "stderr",
     "output_type": "stream",
     "text": [
      " 57%|█████▋    | 57/100 [00:54<00:44,  1.03s/it]"
     ]
    },
    {
     "name": "stdout",
     "output_type": "stream",
     "text": [
      "Input data shape: torch.Size([1, 1, 92])\n",
      "fc_out.weight shape: torch.Size([1, 128])\n",
      "fc_out.bias shape: torch.Size([1])\n",
      "Padding input feature size from 92 to 128\n",
      "Input data shape: torch.Size([1, 211600, 92])\n",
      "fc_out.weight shape: torch.Size([1, 128])\n",
      "fc_out.bias shape: torch.Size([1])\n",
      "Padding input feature size from 92 to 128\n"
     ]
    },
    {
     "name": "stderr",
     "output_type": "stream",
     "text": [
      " 58%|█████▊    | 58/100 [00:55<00:44,  1.05s/it]"
     ]
    },
    {
     "name": "stdout",
     "output_type": "stream",
     "text": [
      "Input data shape: torch.Size([1, 1, 92])\n",
      "fc_out.weight shape: torch.Size([1, 128])\n",
      "fc_out.bias shape: torch.Size([1])\n",
      "Padding input feature size from 92 to 128\n",
      "Input data shape: torch.Size([1, 211600, 92])\n",
      "fc_out.weight shape: torch.Size([1, 128])\n",
      "fc_out.bias shape: torch.Size([1])\n",
      "Padding input feature size from 92 to 128\n"
     ]
    },
    {
     "name": "stderr",
     "output_type": "stream",
     "text": [
      " 59%|█████▉    | 59/100 [00:56<00:43,  1.05s/it]"
     ]
    },
    {
     "name": "stdout",
     "output_type": "stream",
     "text": [
      "Input data shape: torch.Size([1, 1, 92])\n",
      "fc_out.weight shape: torch.Size([1, 128])\n",
      "fc_out.bias shape: torch.Size([1])\n",
      "Padding input feature size from 92 to 128\n",
      "Input data shape: torch.Size([1, 211600, 92])\n",
      "fc_out.weight shape: torch.Size([1, 128])\n",
      "fc_out.bias shape: torch.Size([1])\n",
      "Padding input feature size from 92 to 128\n"
     ]
    },
    {
     "name": "stderr",
     "output_type": "stream",
     "text": [
      " 60%|██████    | 60/100 [00:57<00:42,  1.07s/it]"
     ]
    },
    {
     "name": "stdout",
     "output_type": "stream",
     "text": [
      "Input data shape: torch.Size([1, 1, 92])\n",
      "fc_out.weight shape: torch.Size([1, 128])\n",
      "fc_out.bias shape: torch.Size([1])\n",
      "Padding input feature size from 92 to 128\n",
      "Input data shape: torch.Size([1, 211600, 92])\n",
      "fc_out.weight shape: torch.Size([1, 128])\n",
      "fc_out.bias shape: torch.Size([1])\n",
      "Padding input feature size from 92 to 128\n"
     ]
    },
    {
     "name": "stderr",
     "output_type": "stream",
     "text": [
      " 61%|██████    | 61/100 [00:58<00:41,  1.07s/it]"
     ]
    },
    {
     "name": "stdout",
     "output_type": "stream",
     "text": [
      "Input data shape: torch.Size([1, 1, 92])\n",
      "fc_out.weight shape: torch.Size([1, 128])\n",
      "fc_out.bias shape: torch.Size([1])\n",
      "Padding input feature size from 92 to 128\n",
      "Input data shape: torch.Size([1, 211600, 92])\n",
      "fc_out.weight shape: torch.Size([1, 128])\n",
      "fc_out.bias shape: torch.Size([1])\n",
      "Padding input feature size from 92 to 128\n"
     ]
    },
    {
     "name": "stderr",
     "output_type": "stream",
     "text": [
      " 62%|██████▏   | 62/100 [00:59<00:39,  1.03s/it]"
     ]
    },
    {
     "name": "stdout",
     "output_type": "stream",
     "text": [
      "Input data shape: torch.Size([1, 1, 92])\n",
      "fc_out.weight shape: torch.Size([1, 128])\n",
      "fc_out.bias shape: torch.Size([1])\n",
      "Padding input feature size from 92 to 128\n",
      "Input data shape: torch.Size([1, 211600, 92])\n",
      "fc_out.weight shape: torch.Size([1, 128])\n",
      "fc_out.bias shape: torch.Size([1])\n",
      "Padding input feature size from 92 to 128\n"
     ]
    },
    {
     "name": "stderr",
     "output_type": "stream",
     "text": [
      " 63%|██████▎   | 63/100 [01:00<00:37,  1.01s/it]"
     ]
    },
    {
     "name": "stdout",
     "output_type": "stream",
     "text": [
      "Input data shape: torch.Size([1, 1, 92])\n",
      "fc_out.weight shape: torch.Size([1, 128])\n",
      "fc_out.bias shape: torch.Size([1])\n",
      "Padding input feature size from 92 to 128\n",
      "Input data shape: torch.Size([1, 211600, 92])\n",
      "fc_out.weight shape: torch.Size([1, 128])\n",
      "fc_out.bias shape: torch.Size([1])\n",
      "Padding input feature size from 92 to 128\n"
     ]
    },
    {
     "name": "stderr",
     "output_type": "stream",
     "text": [
      " 64%|██████▍   | 64/100 [01:01<00:35,  1.02it/s]"
     ]
    },
    {
     "name": "stdout",
     "output_type": "stream",
     "text": [
      "Input data shape: torch.Size([1, 1, 92])\n",
      "fc_out.weight shape: torch.Size([1, 128])\n",
      "fc_out.bias shape: torch.Size([1])\n",
      "Padding input feature size from 92 to 128\n",
      "Input data shape: torch.Size([1, 211600, 92])\n",
      "fc_out.weight shape: torch.Size([1, 128])\n",
      "fc_out.bias shape: torch.Size([1])\n",
      "Padding input feature size from 92 to 128\n"
     ]
    },
    {
     "name": "stderr",
     "output_type": "stream",
     "text": [
      " 65%|██████▌   | 65/100 [01:02<00:34,  1.03it/s]"
     ]
    },
    {
     "name": "stdout",
     "output_type": "stream",
     "text": [
      "Input data shape: torch.Size([1, 1, 92])\n",
      "fc_out.weight shape: torch.Size([1, 128])\n",
      "fc_out.bias shape: torch.Size([1])\n",
      "Padding input feature size from 92 to 128\n",
      "Input data shape: torch.Size([1, 211600, 92])\n",
      "fc_out.weight shape: torch.Size([1, 128])\n",
      "fc_out.bias shape: torch.Size([1])\n",
      "Padding input feature size from 92 to 128\n"
     ]
    },
    {
     "name": "stderr",
     "output_type": "stream",
     "text": [
      " 66%|██████▌   | 66/100 [01:03<00:32,  1.06it/s]"
     ]
    },
    {
     "name": "stdout",
     "output_type": "stream",
     "text": [
      "Input data shape: torch.Size([1, 1, 92])\n",
      "fc_out.weight shape: torch.Size([1, 128])\n",
      "fc_out.bias shape: torch.Size([1])\n",
      "Padding input feature size from 92 to 128\n",
      "Input data shape: torch.Size([1, 211600, 92])\n",
      "fc_out.weight shape: torch.Size([1, 128])\n",
      "fc_out.bias shape: torch.Size([1])\n",
      "Padding input feature size from 92 to 128\n"
     ]
    },
    {
     "name": "stderr",
     "output_type": "stream",
     "text": [
      " 67%|██████▋   | 67/100 [01:04<00:31,  1.05it/s]"
     ]
    },
    {
     "name": "stdout",
     "output_type": "stream",
     "text": [
      "Input data shape: torch.Size([1, 1, 92])\n",
      "fc_out.weight shape: torch.Size([1, 128])\n",
      "fc_out.bias shape: torch.Size([1])\n",
      "Padding input feature size from 92 to 128\n",
      "Input data shape: torch.Size([1, 211600, 92])\n",
      "fc_out.weight shape: torch.Size([1, 128])\n",
      "fc_out.bias shape: torch.Size([1])\n",
      "Padding input feature size from 92 to 128\n"
     ]
    },
    {
     "name": "stderr",
     "output_type": "stream",
     "text": [
      " 68%|██████▊   | 68/100 [01:05<00:30,  1.06it/s]"
     ]
    },
    {
     "name": "stdout",
     "output_type": "stream",
     "text": [
      "Input data shape: torch.Size([1, 1, 92])\n",
      "fc_out.weight shape: torch.Size([1, 128])\n",
      "fc_out.bias shape: torch.Size([1])\n",
      "Padding input feature size from 92 to 128\n",
      "Input data shape: torch.Size([1, 211600, 92])\n",
      "fc_out.weight shape: torch.Size([1, 128])\n",
      "fc_out.bias shape: torch.Size([1])\n",
      "Padding input feature size from 92 to 128\n"
     ]
    },
    {
     "name": "stderr",
     "output_type": "stream",
     "text": [
      " 69%|██████▉   | 69/100 [01:06<00:29,  1.06it/s]"
     ]
    },
    {
     "name": "stdout",
     "output_type": "stream",
     "text": [
      "Input data shape: torch.Size([1, 1, 92])\n",
      "fc_out.weight shape: torch.Size([1, 128])\n",
      "fc_out.bias shape: torch.Size([1])\n",
      "Padding input feature size from 92 to 128\n",
      "Input data shape: torch.Size([1, 211600, 92])\n",
      "fc_out.weight shape: torch.Size([1, 128])\n",
      "fc_out.bias shape: torch.Size([1])\n",
      "Padding input feature size from 92 to 128\n"
     ]
    },
    {
     "name": "stderr",
     "output_type": "stream",
     "text": [
      " 70%|███████   | 70/100 [01:07<00:28,  1.06it/s]"
     ]
    },
    {
     "name": "stdout",
     "output_type": "stream",
     "text": [
      "Input data shape: torch.Size([1, 1, 92])\n",
      "fc_out.weight shape: torch.Size([1, 128])\n",
      "fc_out.bias shape: torch.Size([1])\n",
      "Padding input feature size from 92 to 128\n",
      "Input data shape: torch.Size([1, 211600, 92])\n",
      "fc_out.weight shape: torch.Size([1, 128])\n",
      "fc_out.bias shape: torch.Size([1])\n",
      "Padding input feature size from 92 to 128\n"
     ]
    },
    {
     "name": "stderr",
     "output_type": "stream",
     "text": [
      " 71%|███████   | 71/100 [01:08<00:27,  1.06it/s]"
     ]
    },
    {
     "name": "stdout",
     "output_type": "stream",
     "text": [
      "Input data shape: torch.Size([1, 1, 92])\n",
      "fc_out.weight shape: torch.Size([1, 128])\n",
      "fc_out.bias shape: torch.Size([1])\n",
      "Padding input feature size from 92 to 128\n",
      "Input data shape: torch.Size([1, 211600, 92])\n",
      "fc_out.weight shape: torch.Size([1, 128])\n",
      "fc_out.bias shape: torch.Size([1])\n",
      "Padding input feature size from 92 to 128\n"
     ]
    },
    {
     "name": "stderr",
     "output_type": "stream",
     "text": [
      " 72%|███████▏  | 72/100 [01:09<00:26,  1.07it/s]"
     ]
    },
    {
     "name": "stdout",
     "output_type": "stream",
     "text": [
      "Input data shape: torch.Size([1, 1, 92])\n",
      "fc_out.weight shape: torch.Size([1, 128])\n",
      "fc_out.bias shape: torch.Size([1])\n",
      "Padding input feature size from 92 to 128\n",
      "Input data shape: torch.Size([1, 211600, 92])\n",
      "fc_out.weight shape: torch.Size([1, 128])\n",
      "fc_out.bias shape: torch.Size([1])\n",
      "Padding input feature size from 92 to 128\n"
     ]
    },
    {
     "name": "stderr",
     "output_type": "stream",
     "text": [
      " 73%|███████▎  | 73/100 [01:10<00:25,  1.07it/s]"
     ]
    },
    {
     "name": "stdout",
     "output_type": "stream",
     "text": [
      "Input data shape: torch.Size([1, 1, 92])\n",
      "fc_out.weight shape: torch.Size([1, 128])\n",
      "fc_out.bias shape: torch.Size([1])\n",
      "Padding input feature size from 92 to 128\n",
      "Input data shape: torch.Size([1, 211600, 92])\n",
      "fc_out.weight shape: torch.Size([1, 128])\n",
      "fc_out.bias shape: torch.Size([1])\n",
      "Padding input feature size from 92 to 128\n"
     ]
    },
    {
     "name": "stderr",
     "output_type": "stream",
     "text": [
      " 74%|███████▍  | 74/100 [01:10<00:24,  1.07it/s]"
     ]
    },
    {
     "name": "stdout",
     "output_type": "stream",
     "text": [
      "Input data shape: torch.Size([1, 1, 92])\n",
      "fc_out.weight shape: torch.Size([1, 128])\n",
      "fc_out.bias shape: torch.Size([1])\n",
      "Padding input feature size from 92 to 128\n",
      "Input data shape: torch.Size([1, 211600, 92])\n",
      "fc_out.weight shape: torch.Size([1, 128])\n",
      "fc_out.bias shape: torch.Size([1])\n",
      "Padding input feature size from 92 to 128\n"
     ]
    },
    {
     "name": "stderr",
     "output_type": "stream",
     "text": [
      " 75%|███████▌  | 75/100 [01:11<00:23,  1.08it/s]"
     ]
    },
    {
     "name": "stdout",
     "output_type": "stream",
     "text": [
      "Input data shape: torch.Size([1, 1, 92])\n",
      "fc_out.weight shape: torch.Size([1, 128])\n",
      "fc_out.bias shape: torch.Size([1])\n",
      "Padding input feature size from 92 to 128\n",
      "Input data shape: torch.Size([1, 211600, 92])\n",
      "fc_out.weight shape: torch.Size([1, 128])\n",
      "fc_out.bias shape: torch.Size([1])\n",
      "Padding input feature size from 92 to 128\n"
     ]
    },
    {
     "name": "stderr",
     "output_type": "stream",
     "text": [
      " 76%|███████▌  | 76/100 [01:12<00:22,  1.08it/s]"
     ]
    },
    {
     "name": "stdout",
     "output_type": "stream",
     "text": [
      "Input data shape: torch.Size([1, 1, 92])\n",
      "fc_out.weight shape: torch.Size([1, 128])\n",
      "fc_out.bias shape: torch.Size([1])\n",
      "Padding input feature size from 92 to 128\n",
      "Input data shape: torch.Size([1, 211600, 92])\n",
      "fc_out.weight shape: torch.Size([1, 128])\n",
      "fc_out.bias shape: torch.Size([1])\n",
      "Padding input feature size from 92 to 128\n"
     ]
    },
    {
     "name": "stderr",
     "output_type": "stream",
     "text": [
      " 77%|███████▋  | 77/100 [01:13<00:21,  1.08it/s]"
     ]
    },
    {
     "name": "stdout",
     "output_type": "stream",
     "text": [
      "Input data shape: torch.Size([1, 1, 92])\n",
      "fc_out.weight shape: torch.Size([1, 128])\n",
      "fc_out.bias shape: torch.Size([1])\n",
      "Padding input feature size from 92 to 128\n",
      "Input data shape: torch.Size([1, 211600, 92])\n",
      "fc_out.weight shape: torch.Size([1, 128])\n",
      "fc_out.bias shape: torch.Size([1])\n",
      "Padding input feature size from 92 to 128\n"
     ]
    },
    {
     "name": "stderr",
     "output_type": "stream",
     "text": [
      " 78%|███████▊  | 78/100 [01:14<00:20,  1.07it/s]"
     ]
    },
    {
     "name": "stdout",
     "output_type": "stream",
     "text": [
      "Input data shape: torch.Size([1, 1, 92])\n",
      "fc_out.weight shape: torch.Size([1, 128])\n",
      "fc_out.bias shape: torch.Size([1])\n",
      "Padding input feature size from 92 to 128\n",
      "Input data shape: torch.Size([1, 211600, 92])\n",
      "fc_out.weight shape: torch.Size([1, 128])\n",
      "fc_out.bias shape: torch.Size([1])\n",
      "Padding input feature size from 92 to 128\n"
     ]
    },
    {
     "name": "stderr",
     "output_type": "stream",
     "text": [
      " 79%|███████▉  | 79/100 [01:15<00:19,  1.07it/s]"
     ]
    },
    {
     "name": "stdout",
     "output_type": "stream",
     "text": [
      "Input data shape: torch.Size([1, 1, 92])\n",
      "fc_out.weight shape: torch.Size([1, 128])\n",
      "fc_out.bias shape: torch.Size([1])\n",
      "Padding input feature size from 92 to 128\n",
      "Input data shape: torch.Size([1, 211600, 92])\n",
      "fc_out.weight shape: torch.Size([1, 128])\n",
      "fc_out.bias shape: torch.Size([1])\n",
      "Padding input feature size from 92 to 128\n"
     ]
    },
    {
     "name": "stderr",
     "output_type": "stream",
     "text": [
      " 80%|████████  | 80/100 [01:16<00:18,  1.06it/s]"
     ]
    },
    {
     "name": "stdout",
     "output_type": "stream",
     "text": [
      "Input data shape: torch.Size([1, 1, 92])\n",
      "fc_out.weight shape: torch.Size([1, 128])\n",
      "fc_out.bias shape: torch.Size([1])\n",
      "Padding input feature size from 92 to 128\n",
      "Input data shape: torch.Size([1, 211600, 92])\n",
      "fc_out.weight shape: torch.Size([1, 128])\n",
      "fc_out.bias shape: torch.Size([1])\n",
      "Padding input feature size from 92 to 128\n"
     ]
    },
    {
     "name": "stderr",
     "output_type": "stream",
     "text": [
      " 81%|████████  | 81/100 [01:17<00:18,  1.05it/s]"
     ]
    },
    {
     "name": "stdout",
     "output_type": "stream",
     "text": [
      "Input data shape: torch.Size([1, 1, 92])\n",
      "fc_out.weight shape: torch.Size([1, 128])\n",
      "fc_out.bias shape: torch.Size([1])\n",
      "Padding input feature size from 92 to 128\n",
      "Input data shape: torch.Size([1, 211600, 92])\n",
      "fc_out.weight shape: torch.Size([1, 128])\n",
      "fc_out.bias shape: torch.Size([1])\n",
      "Padding input feature size from 92 to 128\n"
     ]
    },
    {
     "name": "stderr",
     "output_type": "stream",
     "text": [
      " 82%|████████▏ | 82/100 [01:18<00:16,  1.06it/s]"
     ]
    },
    {
     "name": "stdout",
     "output_type": "stream",
     "text": [
      "Input data shape: torch.Size([1, 1, 92])\n",
      "fc_out.weight shape: torch.Size([1, 128])\n",
      "fc_out.bias shape: torch.Size([1])\n",
      "Padding input feature size from 92 to 128\n",
      "Input data shape: torch.Size([1, 211600, 92])\n",
      "fc_out.weight shape: torch.Size([1, 128])\n",
      "fc_out.bias shape: torch.Size([1])\n",
      "Padding input feature size from 92 to 128\n"
     ]
    },
    {
     "name": "stderr",
     "output_type": "stream",
     "text": [
      " 83%|████████▎ | 83/100 [01:19<00:16,  1.05it/s]"
     ]
    },
    {
     "name": "stdout",
     "output_type": "stream",
     "text": [
      "Input data shape: torch.Size([1, 1, 92])\n",
      "fc_out.weight shape: torch.Size([1, 128])\n",
      "fc_out.bias shape: torch.Size([1])\n",
      "Padding input feature size from 92 to 128\n",
      "Input data shape: torch.Size([1, 211600, 92])\n",
      "fc_out.weight shape: torch.Size([1, 128])\n",
      "fc_out.bias shape: torch.Size([1])\n",
      "Padding input feature size from 92 to 128\n"
     ]
    },
    {
     "name": "stderr",
     "output_type": "stream",
     "text": [
      " 84%|████████▍ | 84/100 [01:20<00:14,  1.07it/s]"
     ]
    },
    {
     "name": "stdout",
     "output_type": "stream",
     "text": [
      "Input data shape: torch.Size([1, 1, 92])\n",
      "fc_out.weight shape: torch.Size([1, 128])\n",
      "fc_out.bias shape: torch.Size([1])\n",
      "Padding input feature size from 92 to 128\n",
      "Input data shape: torch.Size([1, 211600, 92])\n",
      "fc_out.weight shape: torch.Size([1, 128])\n",
      "fc_out.bias shape: torch.Size([1])\n",
      "Padding input feature size from 92 to 128\n"
     ]
    },
    {
     "name": "stderr",
     "output_type": "stream",
     "text": [
      " 85%|████████▌ | 85/100 [01:21<00:14,  1.07it/s]"
     ]
    },
    {
     "name": "stdout",
     "output_type": "stream",
     "text": [
      "Input data shape: torch.Size([1, 1, 92])\n",
      "fc_out.weight shape: torch.Size([1, 128])\n",
      "fc_out.bias shape: torch.Size([1])\n",
      "Padding input feature size from 92 to 128\n",
      "Input data shape: torch.Size([1, 211600, 92])\n",
      "fc_out.weight shape: torch.Size([1, 128])\n",
      "fc_out.bias shape: torch.Size([1])\n",
      "Padding input feature size from 92 to 128\n"
     ]
    },
    {
     "name": "stderr",
     "output_type": "stream",
     "text": [
      " 86%|████████▌ | 86/100 [01:22<00:13,  1.05it/s]"
     ]
    },
    {
     "name": "stdout",
     "output_type": "stream",
     "text": [
      "Input data shape: torch.Size([1, 1, 92])\n",
      "fc_out.weight shape: torch.Size([1, 128])\n",
      "fc_out.bias shape: torch.Size([1])\n",
      "Padding input feature size from 92 to 128\n",
      "Input data shape: torch.Size([1, 211600, 92])\n",
      "fc_out.weight shape: torch.Size([1, 128])\n",
      "fc_out.bias shape: torch.Size([1])\n",
      "Padding input feature size from 92 to 128\n"
     ]
    },
    {
     "name": "stderr",
     "output_type": "stream",
     "text": [
      " 87%|████████▋ | 87/100 [01:23<00:12,  1.05it/s]"
     ]
    },
    {
     "name": "stdout",
     "output_type": "stream",
     "text": [
      "Input data shape: torch.Size([1, 1, 92])\n",
      "fc_out.weight shape: torch.Size([1, 128])\n",
      "fc_out.bias shape: torch.Size([1])\n",
      "Padding input feature size from 92 to 128\n",
      "Input data shape: torch.Size([1, 211600, 92])\n",
      "fc_out.weight shape: torch.Size([1, 128])\n",
      "fc_out.bias shape: torch.Size([1])\n",
      "Padding input feature size from 92 to 128\n"
     ]
    },
    {
     "name": "stderr",
     "output_type": "stream",
     "text": [
      " 88%|████████▊ | 88/100 [01:24<00:11,  1.05it/s]"
     ]
    },
    {
     "name": "stdout",
     "output_type": "stream",
     "text": [
      "Input data shape: torch.Size([1, 1, 92])\n",
      "fc_out.weight shape: torch.Size([1, 128])\n",
      "fc_out.bias shape: torch.Size([1])\n",
      "Padding input feature size from 92 to 128\n",
      "Input data shape: torch.Size([1, 211600, 92])\n",
      "fc_out.weight shape: torch.Size([1, 128])\n",
      "fc_out.bias shape: torch.Size([1])\n",
      "Padding input feature size from 92 to 128\n"
     ]
    },
    {
     "name": "stderr",
     "output_type": "stream",
     "text": [
      " 89%|████████▉ | 89/100 [01:25<00:10,  1.05it/s]"
     ]
    },
    {
     "name": "stdout",
     "output_type": "stream",
     "text": [
      "Input data shape: torch.Size([1, 1, 92])\n",
      "fc_out.weight shape: torch.Size([1, 128])\n",
      "fc_out.bias shape: torch.Size([1])\n",
      "Padding input feature size from 92 to 128\n",
      "Input data shape: torch.Size([1, 211600, 92])\n",
      "fc_out.weight shape: torch.Size([1, 128])\n",
      "fc_out.bias shape: torch.Size([1])\n",
      "Padding input feature size from 92 to 128\n"
     ]
    },
    {
     "name": "stderr",
     "output_type": "stream",
     "text": [
      " 90%|█████████ | 90/100 [01:26<00:09,  1.06it/s]"
     ]
    },
    {
     "name": "stdout",
     "output_type": "stream",
     "text": [
      "Input data shape: torch.Size([1, 1, 92])\n",
      "fc_out.weight shape: torch.Size([1, 128])\n",
      "fc_out.bias shape: torch.Size([1])\n",
      "Padding input feature size from 92 to 128\n",
      "Input data shape: torch.Size([1, 211600, 92])\n",
      "fc_out.weight shape: torch.Size([1, 128])\n",
      "fc_out.bias shape: torch.Size([1])\n",
      "Padding input feature size from 92 to 128\n"
     ]
    },
    {
     "name": "stderr",
     "output_type": "stream",
     "text": [
      " 91%|█████████ | 91/100 [01:27<00:08,  1.06it/s]"
     ]
    },
    {
     "name": "stdout",
     "output_type": "stream",
     "text": [
      "Input data shape: torch.Size([1, 1, 92])\n",
      "fc_out.weight shape: torch.Size([1, 128])\n",
      "fc_out.bias shape: torch.Size([1])\n",
      "Padding input feature size from 92 to 128\n",
      "Input data shape: torch.Size([1, 211600, 92])\n",
      "fc_out.weight shape: torch.Size([1, 128])\n",
      "fc_out.bias shape: torch.Size([1])\n",
      "Padding input feature size from 92 to 128\n"
     ]
    },
    {
     "name": "stderr",
     "output_type": "stream",
     "text": [
      " 92%|█████████▏| 92/100 [01:27<00:07,  1.07it/s]"
     ]
    },
    {
     "name": "stdout",
     "output_type": "stream",
     "text": [
      "Input data shape: torch.Size([1, 1, 92])\n",
      "fc_out.weight shape: torch.Size([1, 128])\n",
      "fc_out.bias shape: torch.Size([1])\n",
      "Padding input feature size from 92 to 128\n",
      "Input data shape: torch.Size([1, 211600, 92])\n",
      "fc_out.weight shape: torch.Size([1, 128])\n",
      "fc_out.bias shape: torch.Size([1])\n",
      "Padding input feature size from 92 to 128\n"
     ]
    },
    {
     "name": "stderr",
     "output_type": "stream",
     "text": [
      " 93%|█████████▎| 93/100 [01:28<00:06,  1.07it/s]"
     ]
    },
    {
     "name": "stdout",
     "output_type": "stream",
     "text": [
      "Input data shape: torch.Size([1, 1, 92])\n",
      "fc_out.weight shape: torch.Size([1, 128])\n",
      "fc_out.bias shape: torch.Size([1])\n",
      "Padding input feature size from 92 to 128\n",
      "Input data shape: torch.Size([1, 211600, 92])\n",
      "fc_out.weight shape: torch.Size([1, 128])\n",
      "fc_out.bias shape: torch.Size([1])\n",
      "Padding input feature size from 92 to 128\n"
     ]
    },
    {
     "name": "stderr",
     "output_type": "stream",
     "text": [
      " 94%|█████████▍| 94/100 [01:29<00:05,  1.06it/s]"
     ]
    },
    {
     "name": "stdout",
     "output_type": "stream",
     "text": [
      "Input data shape: torch.Size([1, 1, 92])\n",
      "fc_out.weight shape: torch.Size([1, 128])\n",
      "fc_out.bias shape: torch.Size([1])\n",
      "Padding input feature size from 92 to 128\n",
      "Input data shape: torch.Size([1, 211600, 92])\n",
      "fc_out.weight shape: torch.Size([1, 128])\n",
      "fc_out.bias shape: torch.Size([1])\n",
      "Padding input feature size from 92 to 128\n"
     ]
    },
    {
     "name": "stderr",
     "output_type": "stream",
     "text": [
      " 95%|█████████▌| 95/100 [01:30<00:04,  1.07it/s]"
     ]
    },
    {
     "name": "stdout",
     "output_type": "stream",
     "text": [
      "Input data shape: torch.Size([1, 1, 92])\n",
      "fc_out.weight shape: torch.Size([1, 128])\n",
      "fc_out.bias shape: torch.Size([1])\n",
      "Padding input feature size from 92 to 128\n",
      "Input data shape: torch.Size([1, 211600, 92])\n",
      "fc_out.weight shape: torch.Size([1, 128])\n",
      "fc_out.bias shape: torch.Size([1])\n",
      "Padding input feature size from 92 to 128\n"
     ]
    },
    {
     "name": "stderr",
     "output_type": "stream",
     "text": [
      " 96%|█████████▌| 96/100 [01:31<00:03,  1.08it/s]"
     ]
    },
    {
     "name": "stdout",
     "output_type": "stream",
     "text": [
      "Input data shape: torch.Size([1, 1, 92])\n",
      "fc_out.weight shape: torch.Size([1, 128])\n",
      "fc_out.bias shape: torch.Size([1])\n",
      "Padding input feature size from 92 to 128\n",
      "Input data shape: torch.Size([1, 211600, 92])\n",
      "fc_out.weight shape: torch.Size([1, 128])\n",
      "fc_out.bias shape: torch.Size([1])\n",
      "Padding input feature size from 92 to 128\n"
     ]
    },
    {
     "name": "stderr",
     "output_type": "stream",
     "text": [
      " 97%|█████████▋| 97/100 [01:32<00:02,  1.09it/s]"
     ]
    },
    {
     "name": "stdout",
     "output_type": "stream",
     "text": [
      "Input data shape: torch.Size([1, 1, 92])\n",
      "fc_out.weight shape: torch.Size([1, 128])\n",
      "fc_out.bias shape: torch.Size([1])\n",
      "Padding input feature size from 92 to 128\n",
      "Input data shape: torch.Size([1, 211600, 92])\n",
      "fc_out.weight shape: torch.Size([1, 128])\n",
      "fc_out.bias shape: torch.Size([1])\n",
      "Padding input feature size from 92 to 128\n"
     ]
    },
    {
     "name": "stderr",
     "output_type": "stream",
     "text": [
      " 98%|█████████▊| 98/100 [01:33<00:01,  1.09it/s]"
     ]
    },
    {
     "name": "stdout",
     "output_type": "stream",
     "text": [
      "Input data shape: torch.Size([1, 1, 92])\n",
      "fc_out.weight shape: torch.Size([1, 128])\n",
      "fc_out.bias shape: torch.Size([1])\n",
      "Padding input feature size from 92 to 128\n",
      "Input data shape: torch.Size([1, 211600, 92])\n",
      "fc_out.weight shape: torch.Size([1, 128])\n",
      "fc_out.bias shape: torch.Size([1])\n",
      "Padding input feature size from 92 to 128\n"
     ]
    },
    {
     "name": "stderr",
     "output_type": "stream",
     "text": [
      " 99%|█████████▉| 99/100 [01:34<00:00,  1.09it/s]"
     ]
    },
    {
     "name": "stdout",
     "output_type": "stream",
     "text": [
      "Input data shape: torch.Size([1, 1, 92])\n",
      "fc_out.weight shape: torch.Size([1, 128])\n",
      "fc_out.bias shape: torch.Size([1])\n",
      "Padding input feature size from 92 to 128\n",
      "Input data shape: torch.Size([1, 211600, 92])\n",
      "fc_out.weight shape: torch.Size([1, 128])\n",
      "fc_out.bias shape: torch.Size([1])\n",
      "Padding input feature size from 92 to 128\n"
     ]
    },
    {
     "name": "stderr",
     "output_type": "stream",
     "text": [
      "100%|██████████| 100/100 [01:35<00:00,  1.05it/s]\n"
     ]
    },
    {
     "data": {
      "text/plain": [
       "<Figure size 1000x600 with 0 Axes>"
      ]
     },
     "metadata": {},
     "output_type": "display_data"
    },
    {
     "data": {
      "image/png": "[encoded data removed]",
      "text/plain": [
       "<Figure size 1150x660 with 1 Axes>"
      ]
     },
     "metadata": {},
     "output_type": "display_data"
    },
    {
     "name": "stdout",
     "output_type": "stream",
     "text": [
      "SHAP analysis completed. Results saved in 'shap_summary.png'.\n"
     ]
    }
   ],
   "source": [
    "import torch\n",
    "import shap\n",
    "import numpy as np\n",
    "from cgcnn.data import CIFData\n",
    "from cgcnn.data import collate_pool\n",
    "from torch.utils.data import DataLoader\n",
    "import matplotlib.pyplot as plt\n",
    "\n",
    "# 加载数据\n",
    "dataset = CIFData('data/sample-regression/dielectricity')\n",
    "test_loader = DataLoader(dataset, batch_size=256, shuffle=False, num_workers=0,\n",
    "                         collate_fn=collate_pool)\n",
    "\n",
    "# 加载模型\n",
    "best_model = torch.load('model_best.pth.tar', map_location=torch.device('cpu'))\n",
    "\n",
    "# 创建一个包装器类\n",
    "class ModelWrapper(torch.nn.Module):\n",
    "    def __init__(self, state_dict):\n",
    "        super().__init__()\n",
    "        self.state_dict = {k: v.cpu() for k, v in state_dict.items()}\n",
    "        \n",
    "    def forward(self, *args):\n",
    "        input_data = args[0]  # 获取输入数据\n",
    "        \n",
    "        # 调试输出\n",
    "        print(f\"Input data shape: {input_data.shape}\")\n",
    "        print(f\"fc_out.weight shape: {self.state_dict['fc_out.weight'].shape}\")\n",
    "        print(f\"fc_out.bias shape: {self.state_dict['fc_out.bias'].shape}\")\n",
    "        \n",
    "        # 确保输入是2D的\n",
    "        if input_data.dim() > 2:\n",
    "            input_data = input_data.view(-1, input_data.size(-1))\n",
    "        \n",
    "        # 如果输入特征数不匹配，我们需要调整输入\n",
    "        if input_data.shape[-1] < self.state_dict['fc_out.weight'].shape[1]:\n",
    "            print(f\"Padding input feature size from {input_data.shape[-1]} to {self.state_dict['fc_out.weight'].shape[1]}\")\n",
    "            padding = torch.zeros(input_data.size(0), self.state_dict['fc_out.weight'].shape[1] - input_data.size(1))\n",
    "            input_data = torch.cat([input_data, padding], dim=1)\n",
    "        elif input_data.shape[-1] > self.state_dict['fc_out.weight'].shape[1]:\n",
    "            print(f\"Truncating input feature size from {input_data.shape[-1]} to {self.state_dict['fc_out.weight'].shape[1]}\")\n",
    "            input_data = input_data[:, :self.state_dict['fc_out.weight'].shape[1]]\n",
    "        \n",
    "        # 矩阵乘法\n",
    "        output = torch.matmul(input_data, self.state_dict['fc_out.weight'].t()) + self.state_dict['fc_out.bias']\n",
    "        return output\n",
    "\n",
    "# 使用包装器类创建模型\n",
    "model = ModelWrapper(best_model['state_dict'])\n",
    "\n",
    "# 准备数据\n",
    "X_test = []\n",
    "y_test = []\n",
    "for i, (input, target, _) in enumerate(test_loader):\n",
    "    X_test.append(input[0].cpu())\n",
    "    y_test.append(target.cpu())\n",
    "\n",
    "X_test = torch.cat(X_test, dim=0)\n",
    "y_test = torch.cat(y_test).numpy()\n",
    "\n",
    "print(f\"X_test shape: {X_test.shape}\")\n",
    "print(f\"y_test shape: {y_test.shape}\")\n",
    "\n",
    "# 定义一个包装函数来适配SHAP\n",
    "def f(X):\n",
    "    with torch.no_grad():\n",
    "        X = torch.tensor(X, dtype=torch.float32)\n",
    "        if X.dim() == 2:\n",
    "            X = X.unsqueeze(0)  # 添加批次维度\n",
    "        output = model(X)\n",
    "    return output.numpy()\n",
    "\n",
    "# 创建SHAP解释器\n",
    "print(\"Shape of X_test[:100]:\", X_test[:100].shape)\n",
    "explainer = shap.KernelExplainer(f, X_test[:100].numpy())\n",
    "\n",
    "# 计算SHAP值（使用一小部分数据以加快计算）\n",
    "sample_size = min(100, len(X_test))\n",
    "sample_data = X_test[:sample_size].numpy()\n",
    "shap_values = explainer.shap_values(sample_data)\n",
    "\n",
    "# 可视化SHAP值\n",
    "plt.figure(figsize=(10, 6))\n",
    "shap.summary_plot(shap_values, sample_data, plot_type=\"bar\")\n",
    "plt.tight_layout()\n",
    "plt.savefig('shap_summary.png', dpi=300, bbox_inches='tight')\n",
    "plt.close()\n",
    "\n",
    "print(\"SHAP analysis completed. Results saved in 'shap_summary.png'.\")"
   ]
  },
  {
   "cell_type": "code",
   "execution_count": 19,
   "metadata": {},
   "outputs": [
    {
     "name": "stdout",
     "output_type": "stream",
     "text": [
      "ModelWrapper initialized with keys: dict_keys(['embedding.weight', 'embedding.bias', 'convs.0.fc_full.weight', 'convs.0.fc_full.bias', 'convs.0.bn1.weight', 'convs.0.bn1.bias', 'convs.0.bn1.running_mean', 'convs.0.bn1.running_var', 'convs.0.bn1.num_batches_tracked', 'convs.0.bn2.weight', 'convs.0.bn2.bias', 'convs.0.bn2.running_mean', 'convs.0.bn2.running_var', 'convs.0.bn2.num_batches_tracked', 'convs.1.fc_full.weight', 'convs.1.fc_full.bias', 'convs.1.bn1.weight', 'convs.1.bn1.bias', 'convs.1.bn1.running_mean', 'convs.1.bn1.running_var', 'convs.1.bn1.num_batches_tracked', 'convs.1.bn2.weight', 'convs.1.bn2.bias', 'convs.1.bn2.running_mean', 'convs.1.bn2.running_var', 'convs.1.bn2.num_batches_tracked', 'convs.2.fc_full.weight', 'convs.2.fc_full.bias', 'convs.2.bn1.weight', 'convs.2.bn1.bias', 'convs.2.bn1.running_mean', 'convs.2.bn1.running_var', 'convs.2.bn1.num_batches_tracked', 'convs.2.bn2.weight', 'convs.2.bn2.bias', 'convs.2.bn2.running_mean', 'convs.2.bn2.running_var', 'convs.2.bn2.num_batches_tracked', 'conv_to_fc.weight', 'conv_to_fc.bias', 'fc_out.weight', 'fc_out.bias'])\n"
     ]
    },
    {
     "name": "stderr",
     "output_type": "stream",
     "text": [
      "d:\\conda\\envs\\cgcnn\\Lib\\site-packages\\pymatgen\\io\\cif.py:1224: UserWarning: Issues encountered while parsing CIF: 1 fractional coordinates rounded to ideal values to avoid issues with finite precision.\n",
      "  warnings.warn(\"Issues encountered while parsing CIF: \" + \"\\n\".join(self.warnings))\n",
      "c:\\Users\\ASUS\\Desktop\\文章整理_project2\\CGCNN\\cgcnn-master\\cgcnn\\data.py:333: UserWarning: C5FH4NO not find enough neighbors to build graph. If it happens frequently, consider increase radius.\n",
      "  warnings.warn('{} not find enough neighbors to build graph. '\n",
      "c:\\Users\\ASUS\\Desktop\\文章整理_project2\\CGCNN\\cgcnn-master\\cgcnn\\data.py:333: UserWarning: C5Cl2F2HNO not find enough neighbors to build graph. If it happens frequently, consider increase radius.\n",
      "  warnings.warn('{} not find enough neighbors to build graph. '\n",
      "c:\\Users\\ASUS\\Desktop\\文章整理_project2\\CGCNN\\cgcnn-master\\cgcnn\\data.py:333: UserWarning: C3F3H4NO not find enough neighbors to build graph. If it happens frequently, consider increase radius.\n",
      "  warnings.warn('{} not find enough neighbors to build graph. '\n",
      "c:\\Users\\ASUS\\Desktop\\文章整理_project2\\CGCNN\\cgcnn-master\\cgcnn\\data.py:333: UserWarning: C2ClF2H2NO not find enough neighbors to build graph. If it happens frequently, consider increase radius.\n",
      "  warnings.warn('{} not find enough neighbors to build graph. '\n",
      "c:\\Users\\ASUS\\Desktop\\文章整理_project2\\CGCNN\\cgcnn-master\\cgcnn\\data.py:333: UserWarning: C4FH3N2O not find enough neighbors to build graph. If it happens frequently, consider increase radius.\n",
      "  warnings.warn('{} not find enough neighbors to build graph. '\n",
      "c:\\Users\\ASUS\\Desktop\\文章整理_project2\\CGCNN\\cgcnn-master\\cgcnn\\data.py:333: UserWarning: C2F3H2NO not find enough neighbors to build graph. If it happens frequently, consider increase radius.\n",
      "  warnings.warn('{} not find enough neighbors to build graph. '\n",
      "c:\\Users\\ASUS\\Desktop\\文章整理_project2\\CGCNN\\cgcnn-master\\cgcnn\\data.py:333: UserWarning: C3F5H2NO not find enough neighbors to build graph. If it happens frequently, consider increase radius.\n",
      "  warnings.warn('{} not find enough neighbors to build graph. '\n"
     ]
    },
    {
     "name": "stdout",
     "output_type": "stream",
     "text": [
      "X_test shape: torch.Size([26087, 92])\n",
      "y_test shape: (711, 1)\n",
      "X_test first few rows:\n",
      "tensor([[0., 1., 0., 0., 0., 0., 0., 0., 0., 0., 0., 0., 0., 0., 0., 0., 0., 0.,\n",
      "         0., 1., 0., 0., 0., 0., 0., 0., 0., 0., 0., 0., 1., 0., 0., 0., 0., 0.,\n",
      "         1., 0., 0., 0., 0., 0., 0., 0., 0., 0., 1., 0., 0., 0., 0., 0., 0., 0.,\n",
      "         0., 0., 0., 0., 0., 0., 0., 0., 0., 0., 1., 0., 0., 0., 0., 0., 0., 0.,\n",
      "         0., 1., 0., 0., 0., 0., 1., 0., 0., 0., 0., 0., 0., 0., 1., 0., 0., 0.,\n",
      "         0., 0.],\n",
      "        [0., 1., 0., 0., 0., 0., 0., 0., 0., 0., 0., 0., 0., 0., 0., 0., 0., 0.,\n",
      "         0., 1., 0., 0., 0., 0., 0., 0., 0., 0., 0., 0., 1., 0., 0., 0., 0., 0.,\n",
      "         1., 0., 0., 0., 0., 0., 0., 0., 0., 0., 1., 0., 0., 0., 0., 0., 0., 0.,\n",
      "         0., 0., 0., 0., 0., 0., 0., 0., 0., 0., 1., 0., 0., 0., 0., 0., 0., 0.,\n",
      "         0., 1., 0., 0., 0., 0., 1., 0., 0., 0., 0., 0., 0., 0., 1., 0., 0., 0.,\n",
      "         0., 0.],\n",
      "        [0., 1., 0., 0., 0., 0., 0., 0., 0., 0., 0., 0., 0., 0., 0., 0., 0., 0.,\n",
      "         0., 1., 0., 0., 0., 0., 0., 0., 0., 0., 0., 0., 1., 0., 0., 0., 0., 0.,\n",
      "         1., 0., 0., 0., 0., 0., 0., 0., 0., 0., 1., 0., 0., 0., 0., 0., 0., 0.,\n",
      "         0., 0., 0., 0., 0., 0., 0., 0., 0., 0., 1., 0., 0., 0., 0., 0., 0., 0.,\n",
      "         0., 1., 0., 0., 0., 0., 1., 0., 0., 0., 0., 0., 0., 0., 1., 0., 0., 0.,\n",
      "         0., 0.],\n",
      "        [0., 1., 0., 0., 0., 0., 0., 0., 0., 0., 0., 0., 0., 0., 0., 0., 0., 0.,\n",
      "         0., 1., 0., 0., 0., 0., 0., 0., 0., 0., 0., 0., 1., 0., 0., 0., 0., 0.,\n",
      "         1., 0., 0., 0., 0., 0., 0., 0., 0., 0., 1., 0., 0., 0., 0., 0., 0., 0.,\n",
      "         0., 0., 0., 0., 0., 0., 0., 0., 0., 0., 1., 0., 0., 0., 0., 0., 0., 0.,\n",
      "         0., 1., 0., 0., 0., 0., 1., 0., 0., 0., 0., 0., 0., 0., 1., 0., 0., 0.,\n",
      "         0., 0.],\n",
      "        [0., 1., 0., 0., 0., 0., 0., 0., 0., 0., 0., 0., 0., 0., 0., 0., 0., 0.,\n",
      "         0., 1., 0., 0., 0., 0., 0., 0., 0., 0., 0., 0., 1., 0., 0., 0., 0., 0.,\n",
      "         1., 0., 0., 0., 0., 0., 0., 0., 0., 0., 1., 0., 0., 0., 0., 0., 0., 0.,\n",
      "         0., 0., 0., 0., 0., 0., 0., 0., 0., 0., 1., 0., 0., 0., 0., 0., 0., 0.,\n",
      "         0., 1., 0., 0., 0., 0., 1., 0., 0., 0., 0., 0., 0., 0., 1., 0., 0., 0.,\n",
      "         0., 0.]])\n",
      "Shape of X_test[:100]: torch.Size([100, 92])\n",
      "Input data shape: torch.Size([1, 100, 92])\n",
      "fc_out.weight shape: torch.Size([1, 128])\n",
      "fc_out.bias shape: torch.Size([1])\n",
      "Padding input feature size from 92 to 128\n",
      "Output shape: torch.Size([100, 1])\n"
     ]
    },
    {
     "name": "stderr",
     "output_type": "stream",
     "text": [
      "  0%|          | 0/100 [00:00<?, ?it/s]"
     ]
    },
    {
     "name": "stdout",
     "output_type": "stream",
     "text": [
      "Input data shape: torch.Size([1, 1, 92])\n",
      "fc_out.weight shape: torch.Size([1, 128])\n",
      "fc_out.bias shape: torch.Size([1])\n",
      "Padding input feature size from 92 to 128\n",
      "Output shape: torch.Size([1, 1])\n",
      "Input data shape: torch.Size([1, 211600, 92])\n",
      "fc_out.weight shape: torch.Size([1, 128])\n",
      "fc_out.bias shape: torch.Size([1])\n",
      "Padding input feature size from 92 to 128\n",
      "Output shape: torch.Size([211600, 1])\n"
     ]
    },
    {
     "name": "stderr",
     "output_type": "stream",
     "text": [
      "  1%|          | 1/100 [00:00<01:30,  1.09it/s]"
     ]
    },
    {
     "name": "stdout",
     "output_type": "stream",
     "text": [
      "Input data shape: torch.Size([1, 1, 92])\n",
      "fc_out.weight shape: torch.Size([1, 128])\n",
      "fc_out.bias shape: torch.Size([1])\n",
      "Padding input feature size from 92 to 128\n",
      "Output shape: torch.Size([1, 1])\n",
      "Input data shape: torch.Size([1, 211600, 92])\n",
      "fc_out.weight shape: torch.Size([1, 128])\n",
      "fc_out.bias shape: torch.Size([1])\n",
      "Padding input feature size from 92 to 128\n",
      "Output shape: torch.Size([211600, 1])\n"
     ]
    },
    {
     "name": "stderr",
     "output_type": "stream",
     "text": [
      "  2%|▏         | 2/100 [00:01<01:25,  1.14it/s]"
     ]
    },
    {
     "name": "stdout",
     "output_type": "stream",
     "text": [
      "Input data shape: torch.Size([1, 1, 92])\n",
      "fc_out.weight shape: torch.Size([1, 128])\n",
      "fc_out.bias shape: torch.Size([1])\n",
      "Padding input feature size from 92 to 128\n",
      "Output shape: torch.Size([1, 1])\n",
      "Input data shape: torch.Size([1, 211600, 92])\n",
      "fc_out.weight shape: torch.Size([1, 128])\n",
      "fc_out.bias shape: torch.Size([1])\n",
      "Padding input feature size from 92 to 128\n",
      "Output shape: torch.Size([211600, 1])\n"
     ]
    },
    {
     "name": "stderr",
     "output_type": "stream",
     "text": [
      "  3%|▎         | 3/100 [00:02<01:23,  1.16it/s]"
     ]
    },
    {
     "name": "stdout",
     "output_type": "stream",
     "text": [
      "Input data shape: torch.Size([1, 1, 92])\n",
      "fc_out.weight shape: torch.Size([1, 128])\n",
      "fc_out.bias shape: torch.Size([1])\n",
      "Padding input feature size from 92 to 128\n",
      "Output shape: torch.Size([1, 1])\n",
      "Input data shape: torch.Size([1, 211600, 92])\n",
      "fc_out.weight shape: torch.Size([1, 128])\n",
      "fc_out.bias shape: torch.Size([1])\n",
      "Padding input feature size from 92 to 128\n",
      "Output shape: torch.Size([211600, 1])\n"
     ]
    },
    {
     "name": "stderr",
     "output_type": "stream",
     "text": [
      "  4%|▍         | 4/100 [00:03<01:22,  1.16it/s]"
     ]
    },
    {
     "name": "stdout",
     "output_type": "stream",
     "text": [
      "Input data shape: torch.Size([1, 1, 92])\n",
      "fc_out.weight shape: torch.Size([1, 128])\n",
      "fc_out.bias shape: torch.Size([1])\n",
      "Padding input feature size from 92 to 128\n",
      "Output shape: torch.Size([1, 1])\n",
      "Input data shape: torch.Size([1, 211600, 92])\n",
      "fc_out.weight shape: torch.Size([1, 128])\n",
      "fc_out.bias shape: torch.Size([1])\n",
      "Padding input feature size from 92 to 128\n",
      "Output shape: torch.Size([211600, 1])\n"
     ]
    },
    {
     "name": "stderr",
     "output_type": "stream",
     "text": [
      "  5%|▌         | 5/100 [00:04<01:21,  1.16it/s]"
     ]
    },
    {
     "name": "stdout",
     "output_type": "stream",
     "text": [
      "Input data shape: torch.Size([1, 1, 92])\n",
      "fc_out.weight shape: torch.Size([1, 128])\n",
      "fc_out.bias shape: torch.Size([1])\n",
      "Padding input feature size from 92 to 128\n",
      "Output shape: torch.Size([1, 1])\n",
      "Input data shape: torch.Size([1, 211600, 92])\n",
      "fc_out.weight shape: torch.Size([1, 128])\n",
      "fc_out.bias shape: torch.Size([1])\n",
      "Padding input feature size from 92 to 128\n",
      "Output shape: torch.Size([211600, 1])\n"
     ]
    },
    {
     "name": "stderr",
     "output_type": "stream",
     "text": [
      "  6%|▌         | 6/100 [00:05<01:19,  1.18it/s]"
     ]
    },
    {
     "name": "stdout",
     "output_type": "stream",
     "text": [
      "Input data shape: torch.Size([1, 1, 92])\n",
      "fc_out.weight shape: torch.Size([1, 128])\n",
      "fc_out.bias shape: torch.Size([1])\n",
      "Padding input feature size from 92 to 128\n",
      "Output shape: torch.Size([1, 1])\n",
      "Input data shape: torch.Size([1, 211600, 92])\n",
      "fc_out.weight shape: torch.Size([1, 128])\n",
      "fc_out.bias shape: torch.Size([1])\n",
      "Padding input feature size from 92 to 128\n",
      "Output shape: torch.Size([211600, 1])\n"
     ]
    },
    {
     "name": "stderr",
     "output_type": "stream",
     "text": [
      "  7%|▋         | 7/100 [00:06<01:20,  1.16it/s]"
     ]
    },
    {
     "name": "stdout",
     "output_type": "stream",
     "text": [
      "Input data shape: torch.Size([1, 1, 92])\n",
      "fc_out.weight shape: torch.Size([1, 128])\n",
      "fc_out.bias shape: torch.Size([1])\n",
      "Padding input feature size from 92 to 128\n",
      "Output shape: torch.Size([1, 1])\n",
      "Input data shape: torch.Size([1, 211600, 92])\n",
      "fc_out.weight shape: torch.Size([1, 128])\n",
      "fc_out.bias shape: torch.Size([1])\n",
      "Padding input feature size from 92 to 128\n",
      "Output shape: torch.Size([211600, 1])\n"
     ]
    },
    {
     "name": "stderr",
     "output_type": "stream",
     "text": [
      "  8%|▊         | 8/100 [00:06<01:18,  1.17it/s]"
     ]
    },
    {
     "name": "stdout",
     "output_type": "stream",
     "text": [
      "Input data shape: torch.Size([1, 1, 92])\n",
      "fc_out.weight shape: torch.Size([1, 128])\n",
      "fc_out.bias shape: torch.Size([1])\n",
      "Padding input feature size from 92 to 128\n",
      "Output shape: torch.Size([1, 1])\n",
      "Input data shape: torch.Size([1, 211600, 92])\n",
      "fc_out.weight shape: torch.Size([1, 128])\n",
      "fc_out.bias shape: torch.Size([1])\n",
      "Padding input feature size from 92 to 128\n",
      "Output shape: torch.Size([211600, 1])\n"
     ]
    },
    {
     "name": "stderr",
     "output_type": "stream",
     "text": [
      "  9%|▉         | 9/100 [00:07<01:17,  1.17it/s]"
     ]
    },
    {
     "name": "stdout",
     "output_type": "stream",
     "text": [
      "Input data shape: torch.Size([1, 1, 92])\n",
      "fc_out.weight shape: torch.Size([1, 128])\n",
      "fc_out.bias shape: torch.Size([1])\n",
      "Padding input feature size from 92 to 128\n",
      "Output shape: torch.Size([1, 1])\n",
      "Input data shape: torch.Size([1, 211600, 92])\n",
      "fc_out.weight shape: torch.Size([1, 128])\n",
      "fc_out.bias shape: torch.Size([1])\n",
      "Padding input feature size from 92 to 128\n",
      "Output shape: torch.Size([211600, 1])\n"
     ]
    },
    {
     "name": "stderr",
     "output_type": "stream",
     "text": [
      " 10%|█         | 10/100 [00:08<01:17,  1.16it/s]"
     ]
    },
    {
     "name": "stdout",
     "output_type": "stream",
     "text": [
      "Input data shape: torch.Size([1, 1, 92])\n",
      "fc_out.weight shape: torch.Size([1, 128])\n",
      "fc_out.bias shape: torch.Size([1])\n",
      "Padding input feature size from 92 to 128\n",
      "Output shape: torch.Size([1, 1])\n",
      "Input data shape: torch.Size([1, 211600, 92])\n",
      "fc_out.weight shape: torch.Size([1, 128])\n",
      "fc_out.bias shape: torch.Size([1])\n",
      "Padding input feature size from 92 to 128\n",
      "Output shape: torch.Size([211600, 1])\n"
     ]
    },
    {
     "name": "stderr",
     "output_type": "stream",
     "text": [
      " 11%|█         | 11/100 [00:09<01:16,  1.17it/s]"
     ]
    },
    {
     "name": "stdout",
     "output_type": "stream",
     "text": [
      "Input data shape: torch.Size([1, 1, 92])\n",
      "fc_out.weight shape: torch.Size([1, 128])\n",
      "fc_out.bias shape: torch.Size([1])\n",
      "Padding input feature size from 92 to 128\n",
      "Output shape: torch.Size([1, 1])\n",
      "Input data shape: torch.Size([1, 211600, 92])\n",
      "fc_out.weight shape: torch.Size([1, 128])\n",
      "fc_out.bias shape: torch.Size([1])\n",
      "Padding input feature size from 92 to 128\n",
      "Output shape: torch.Size([211600, 1])\n"
     ]
    },
    {
     "name": "stderr",
     "output_type": "stream",
     "text": [
      " 12%|█▏        | 12/100 [00:10<01:14,  1.18it/s]"
     ]
    },
    {
     "name": "stdout",
     "output_type": "stream",
     "text": [
      "Input data shape: torch.Size([1, 1, 92])\n",
      "fc_out.weight shape: torch.Size([1, 128])\n",
      "fc_out.bias shape: torch.Size([1])\n",
      "Padding input feature size from 92 to 128\n",
      "Output shape: torch.Size([1, 1])\n",
      "Input data shape: torch.Size([1, 211600, 92])\n",
      "fc_out.weight shape: torch.Size([1, 128])\n",
      "fc_out.bias shape: torch.Size([1])\n",
      "Padding input feature size from 92 to 128\n",
      "Output shape: torch.Size([211600, 1])\n"
     ]
    },
    {
     "name": "stderr",
     "output_type": "stream",
     "text": [
      " 13%|█▎        | 13/100 [00:11<01:14,  1.18it/s]"
     ]
    },
    {
     "name": "stdout",
     "output_type": "stream",
     "text": [
      "Input data shape: torch.Size([1, 1, 92])\n",
      "fc_out.weight shape: torch.Size([1, 128])\n",
      "fc_out.bias shape: torch.Size([1])\n",
      "Padding input feature size from 92 to 128\n",
      "Output shape: torch.Size([1, 1])\n",
      "Input data shape: torch.Size([1, 211600, 92])\n",
      "fc_out.weight shape: torch.Size([1, 128])\n",
      "fc_out.bias shape: torch.Size([1])\n",
      "Padding input feature size from 92 to 128\n",
      "Output shape: torch.Size([211600, 1])\n"
     ]
    },
    {
     "name": "stderr",
     "output_type": "stream",
     "text": [
      " 14%|█▍        | 14/100 [00:11<01:13,  1.18it/s]"
     ]
    },
    {
     "name": "stdout",
     "output_type": "stream",
     "text": [
      "Input data shape: torch.Size([1, 1, 92])\n",
      "fc_out.weight shape: torch.Size([1, 128])\n",
      "fc_out.bias shape: torch.Size([1])\n",
      "Padding input feature size from 92 to 128\n",
      "Output shape: torch.Size([1, 1])\n",
      "Input data shape: torch.Size([1, 211600, 92])\n",
      "fc_out.weight shape: torch.Size([1, 128])\n",
      "fc_out.bias shape: torch.Size([1])\n",
      "Padding input feature size from 92 to 128\n",
      "Output shape: torch.Size([211600, 1])\n"
     ]
    },
    {
     "name": "stderr",
     "output_type": "stream",
     "text": [
      " 15%|█▌        | 15/100 [00:12<01:12,  1.17it/s]"
     ]
    },
    {
     "name": "stdout",
     "output_type": "stream",
     "text": [
      "Input data shape: torch.Size([1, 1, 92])\n",
      "fc_out.weight shape: torch.Size([1, 128])\n",
      "fc_out.bias shape: torch.Size([1])\n",
      "Padding input feature size from 92 to 128\n",
      "Output shape: torch.Size([1, 1])\n",
      "Input data shape: torch.Size([1, 211600, 92])\n",
      "fc_out.weight shape: torch.Size([1, 128])\n",
      "fc_out.bias shape: torch.Size([1])\n",
      "Padding input feature size from 92 to 128\n",
      "Output shape: torch.Size([211600, 1])\n"
     ]
    },
    {
     "name": "stderr",
     "output_type": "stream",
     "text": [
      " 16%|█▌        | 16/100 [00:13<01:11,  1.17it/s]"
     ]
    },
    {
     "name": "stdout",
     "output_type": "stream",
     "text": [
      "Input data shape: torch.Size([1, 1, 92])\n",
      "fc_out.weight shape: torch.Size([1, 128])\n",
      "fc_out.bias shape: torch.Size([1])\n",
      "Padding input feature size from 92 to 128\n",
      "Output shape: torch.Size([1, 1])\n",
      "Input data shape: torch.Size([1, 211600, 92])\n",
      "fc_out.weight shape: torch.Size([1, 128])\n",
      "fc_out.bias shape: torch.Size([1])\n",
      "Padding input feature size from 92 to 128\n",
      "Output shape: torch.Size([211600, 1])\n"
     ]
    },
    {
     "name": "stderr",
     "output_type": "stream",
     "text": [
      " 17%|█▋        | 17/100 [00:14<01:11,  1.16it/s]"
     ]
    },
    {
     "name": "stdout",
     "output_type": "stream",
     "text": [
      "Input data shape: torch.Size([1, 1, 92])\n",
      "fc_out.weight shape: torch.Size([1, 128])\n",
      "fc_out.bias shape: torch.Size([1])\n",
      "Padding input feature size from 92 to 128\n",
      "Output shape: torch.Size([1, 1])\n",
      "Input data shape: torch.Size([1, 211600, 92])\n",
      "fc_out.weight shape: torch.Size([1, 128])\n",
      "fc_out.bias shape: torch.Size([1])\n",
      "Padding input feature size from 92 to 128\n",
      "Output shape: torch.Size([211600, 1])\n"
     ]
    },
    {
     "name": "stderr",
     "output_type": "stream",
     "text": [
      " 18%|█▊        | 18/100 [00:15<01:11,  1.15it/s]"
     ]
    },
    {
     "name": "stdout",
     "output_type": "stream",
     "text": [
      "Input data shape: torch.Size([1, 1, 92])\n",
      "fc_out.weight shape: torch.Size([1, 128])\n",
      "fc_out.bias shape: torch.Size([1])\n",
      "Padding input feature size from 92 to 128\n",
      "Output shape: torch.Size([1, 1])\n",
      "Input data shape: torch.Size([1, 211600, 92])\n",
      "fc_out.weight shape: torch.Size([1, 128])\n",
      "fc_out.bias shape: torch.Size([1])\n",
      "Padding input feature size from 92 to 128\n",
      "Output shape: torch.Size([211600, 1])\n"
     ]
    },
    {
     "name": "stderr",
     "output_type": "stream",
     "text": [
      " 19%|█▉        | 19/100 [00:16<01:10,  1.15it/s]"
     ]
    },
    {
     "name": "stdout",
     "output_type": "stream",
     "text": [
      "Input data shape: torch.Size([1, 1, 92])\n",
      "fc_out.weight shape: torch.Size([1, 128])\n",
      "fc_out.bias shape: torch.Size([1])\n",
      "Padding input feature size from 92 to 128\n",
      "Output shape: torch.Size([1, 1])\n",
      "Input data shape: torch.Size([1, 211600, 92])\n",
      "fc_out.weight shape: torch.Size([1, 128])\n",
      "fc_out.bias shape: torch.Size([1])\n",
      "Padding input feature size from 92 to 128\n",
      "Output shape: torch.Size([211600, 1])\n"
     ]
    },
    {
     "name": "stderr",
     "output_type": "stream",
     "text": [
      " 20%|██        | 20/100 [00:17<01:09,  1.15it/s]"
     ]
    },
    {
     "name": "stdout",
     "output_type": "stream",
     "text": [
      "Input data shape: torch.Size([1, 1, 92])\n",
      "fc_out.weight shape: torch.Size([1, 128])\n",
      "fc_out.bias shape: torch.Size([1])\n",
      "Padding input feature size from 92 to 128\n",
      "Output shape: torch.Size([1, 1])\n",
      "Input data shape: torch.Size([1, 211600, 92])\n",
      "fc_out.weight shape: torch.Size([1, 128])\n",
      "fc_out.bias shape: torch.Size([1])\n",
      "Padding input feature size from 92 to 128\n",
      "Output shape: torch.Size([211600, 1])\n"
     ]
    },
    {
     "name": "stderr",
     "output_type": "stream",
     "text": [
      " 21%|██        | 21/100 [00:18<01:08,  1.15it/s]"
     ]
    },
    {
     "name": "stdout",
     "output_type": "stream",
     "text": [
      "Input data shape: torch.Size([1, 1, 92])\n",
      "fc_out.weight shape: torch.Size([1, 128])\n",
      "fc_out.bias shape: torch.Size([1])\n",
      "Padding input feature size from 92 to 128\n",
      "Output shape: torch.Size([1, 1])\n",
      "Input data shape: torch.Size([1, 211600, 92])\n",
      "fc_out.weight shape: torch.Size([1, 128])\n",
      "fc_out.bias shape: torch.Size([1])\n",
      "Padding input feature size from 92 to 128\n",
      "Output shape: torch.Size([211600, 1])\n"
     ]
    },
    {
     "name": "stderr",
     "output_type": "stream",
     "text": [
      " 22%|██▏       | 22/100 [00:18<01:08,  1.14it/s]"
     ]
    },
    {
     "name": "stdout",
     "output_type": "stream",
     "text": [
      "Input data shape: torch.Size([1, 1, 92])\n",
      "fc_out.weight shape: torch.Size([1, 128])\n",
      "fc_out.bias shape: torch.Size([1])\n",
      "Padding input feature size from 92 to 128\n",
      "Output shape: torch.Size([1, 1])\n",
      "Input data shape: torch.Size([1, 211600, 92])\n",
      "fc_out.weight shape: torch.Size([1, 128])\n",
      "fc_out.bias shape: torch.Size([1])\n",
      "Padding input feature size from 92 to 128\n",
      "Output shape: torch.Size([211600, 1])\n"
     ]
    },
    {
     "name": "stderr",
     "output_type": "stream",
     "text": [
      " 23%|██▎       | 23/100 [00:19<01:07,  1.14it/s]"
     ]
    },
    {
     "name": "stdout",
     "output_type": "stream",
     "text": [
      "Input data shape: torch.Size([1, 1, 92])\n",
      "fc_out.weight shape: torch.Size([1, 128])\n",
      "fc_out.bias shape: torch.Size([1])\n",
      "Padding input feature size from 92 to 128\n",
      "Output shape: torch.Size([1, 1])\n",
      "Input data shape: torch.Size([1, 211600, 92])\n",
      "fc_out.weight shape: torch.Size([1, 128])\n",
      "fc_out.bias shape: torch.Size([1])\n",
      "Padding input feature size from 92 to 128\n",
      "Output shape: torch.Size([211600, 1])\n"
     ]
    },
    {
     "name": "stderr",
     "output_type": "stream",
     "text": [
      " 24%|██▍       | 24/100 [00:20<01:06,  1.14it/s]"
     ]
    },
    {
     "name": "stdout",
     "output_type": "stream",
     "text": [
      "Input data shape: torch.Size([1, 1, 92])\n",
      "fc_out.weight shape: torch.Size([1, 128])\n",
      "fc_out.bias shape: torch.Size([1])\n",
      "Padding input feature size from 92 to 128\n",
      "Output shape: torch.Size([1, 1])\n",
      "Input data shape: torch.Size([1, 211600, 92])\n",
      "fc_out.weight shape: torch.Size([1, 128])\n",
      "fc_out.bias shape: torch.Size([1])\n",
      "Padding input feature size from 92 to 128\n",
      "Output shape: torch.Size([211600, 1])\n"
     ]
    },
    {
     "name": "stderr",
     "output_type": "stream",
     "text": [
      " 25%|██▌       | 25/100 [00:21<01:05,  1.14it/s]"
     ]
    },
    {
     "name": "stdout",
     "output_type": "stream",
     "text": [
      "Input data shape: torch.Size([1, 1, 92])\n",
      "fc_out.weight shape: torch.Size([1, 128])\n",
      "fc_out.bias shape: torch.Size([1])\n",
      "Padding input feature size from 92 to 128\n",
      "Output shape: torch.Size([1, 1])\n",
      "Input data shape: torch.Size([1, 211600, 92])\n",
      "fc_out.weight shape: torch.Size([1, 128])\n",
      "fc_out.bias shape: torch.Size([1])\n",
      "Padding input feature size from 92 to 128\n",
      "Output shape: torch.Size([211600, 1])\n"
     ]
    },
    {
     "name": "stderr",
     "output_type": "stream",
     "text": [
      " 26%|██▌       | 26/100 [00:22<01:05,  1.14it/s]"
     ]
    },
    {
     "name": "stdout",
     "output_type": "stream",
     "text": [
      "Input data shape: torch.Size([1, 1, 92])\n",
      "fc_out.weight shape: torch.Size([1, 128])\n",
      "fc_out.bias shape: torch.Size([1])\n",
      "Padding input feature size from 92 to 128\n",
      "Output shape: torch.Size([1, 1])\n",
      "Input data shape: torch.Size([1, 211600, 92])\n",
      "fc_out.weight shape: torch.Size([1, 128])\n",
      "fc_out.bias shape: torch.Size([1])\n",
      "Padding input feature size from 92 to 128\n",
      "Output shape: torch.Size([211600, 1])\n"
     ]
    },
    {
     "name": "stderr",
     "output_type": "stream",
     "text": [
      " 27%|██▋       | 27/100 [00:23<01:04,  1.14it/s]"
     ]
    },
    {
     "name": "stdout",
     "output_type": "stream",
     "text": [
      "Input data shape: torch.Size([1, 1, 92])\n",
      "fc_out.weight shape: torch.Size([1, 128])\n",
      "fc_out.bias shape: torch.Size([1])\n",
      "Padding input feature size from 92 to 128\n",
      "Output shape: torch.Size([1, 1])\n",
      "Input data shape: torch.Size([1, 211600, 92])\n",
      "fc_out.weight shape: torch.Size([1, 128])\n",
      "fc_out.bias shape: torch.Size([1])\n",
      "Padding input feature size from 92 to 128\n",
      "Output shape: torch.Size([211600, 1])\n"
     ]
    },
    {
     "name": "stderr",
     "output_type": "stream",
     "text": [
      " 28%|██▊       | 28/100 [00:24<01:03,  1.14it/s]"
     ]
    },
    {
     "name": "stdout",
     "output_type": "stream",
     "text": [
      "Input data shape: torch.Size([1, 1, 92])\n",
      "fc_out.weight shape: torch.Size([1, 128])\n",
      "fc_out.bias shape: torch.Size([1])\n",
      "Padding input feature size from 92 to 128\n",
      "Output shape: torch.Size([1, 1])\n",
      "Input data shape: torch.Size([1, 211600, 92])\n",
      "fc_out.weight shape: torch.Size([1, 128])\n",
      "fc_out.bias shape: torch.Size([1])\n",
      "Padding input feature size from 92 to 128\n",
      "Output shape: torch.Size([211600, 1])\n"
     ]
    },
    {
     "name": "stderr",
     "output_type": "stream",
     "text": [
      " 29%|██▉       | 29/100 [00:25<01:03,  1.13it/s]"
     ]
    },
    {
     "name": "stdout",
     "output_type": "stream",
     "text": [
      "Input data shape: torch.Size([1, 1, 92])\n",
      "fc_out.weight shape: torch.Size([1, 128])\n",
      "fc_out.bias shape: torch.Size([1])\n",
      "Padding input feature size from 92 to 128\n",
      "Output shape: torch.Size([1, 1])\n",
      "Input data shape: torch.Size([1, 211600, 92])\n",
      "fc_out.weight shape: torch.Size([1, 128])\n",
      "fc_out.bias shape: torch.Size([1])\n",
      "Padding input feature size from 92 to 128\n",
      "Output shape: torch.Size([211600, 1])\n"
     ]
    },
    {
     "name": "stderr",
     "output_type": "stream",
     "text": [
      " 30%|███       | 30/100 [00:26<01:02,  1.13it/s]"
     ]
    },
    {
     "name": "stdout",
     "output_type": "stream",
     "text": [
      "Input data shape: torch.Size([1, 1, 92])\n",
      "fc_out.weight shape: torch.Size([1, 128])\n",
      "fc_out.bias shape: torch.Size([1])\n",
      "Padding input feature size from 92 to 128\n",
      "Output shape: torch.Size([1, 1])\n",
      "Input data shape: torch.Size([1, 211600, 92])\n",
      "fc_out.weight shape: torch.Size([1, 128])\n",
      "fc_out.bias shape: torch.Size([1])\n",
      "Padding input feature size from 92 to 128\n",
      "Output shape: torch.Size([211600, 1])\n"
     ]
    },
    {
     "name": "stderr",
     "output_type": "stream",
     "text": [
      " 31%|███       | 31/100 [00:26<01:01,  1.12it/s]"
     ]
    },
    {
     "name": "stdout",
     "output_type": "stream",
     "text": [
      "Input data shape: torch.Size([1, 1, 92])\n",
      "fc_out.weight shape: torch.Size([1, 128])\n",
      "fc_out.bias shape: torch.Size([1])\n",
      "Padding input feature size from 92 to 128\n",
      "Output shape: torch.Size([1, 1])\n",
      "Input data shape: torch.Size([1, 211600, 92])\n",
      "fc_out.weight shape: torch.Size([1, 128])\n",
      "fc_out.bias shape: torch.Size([1])\n",
      "Padding input feature size from 92 to 128\n",
      "Output shape: torch.Size([211600, 1])\n"
     ]
    },
    {
     "name": "stderr",
     "output_type": "stream",
     "text": [
      " 32%|███▏      | 32/100 [00:27<00:59,  1.14it/s]"
     ]
    },
    {
     "name": "stdout",
     "output_type": "stream",
     "text": [
      "Input data shape: torch.Size([1, 1, 92])\n",
      "fc_out.weight shape: torch.Size([1, 128])\n",
      "fc_out.bias shape: torch.Size([1])\n",
      "Padding input feature size from 92 to 128\n",
      "Output shape: torch.Size([1, 1])\n",
      "Input data shape: torch.Size([1, 211600, 92])\n",
      "fc_out.weight shape: torch.Size([1, 128])\n",
      "fc_out.bias shape: torch.Size([1])\n",
      "Padding input feature size from 92 to 128\n",
      "Output shape: torch.Size([211600, 1])\n"
     ]
    },
    {
     "name": "stderr",
     "output_type": "stream",
     "text": [
      " 33%|███▎      | 33/100 [00:28<00:59,  1.13it/s]"
     ]
    },
    {
     "name": "stdout",
     "output_type": "stream",
     "text": [
      "Input data shape: torch.Size([1, 1, 92])\n",
      "fc_out.weight shape: torch.Size([1, 128])\n",
      "fc_out.bias shape: torch.Size([1])\n",
      "Padding input feature size from 92 to 128\n",
      "Output shape: torch.Size([1, 1])\n",
      "Input data shape: torch.Size([1, 211600, 92])\n",
      "fc_out.weight shape: torch.Size([1, 128])\n",
      "fc_out.bias shape: torch.Size([1])\n",
      "Padding input feature size from 92 to 128\n",
      "Output shape: torch.Size([211600, 1])\n"
     ]
    },
    {
     "name": "stderr",
     "output_type": "stream",
     "text": [
      " 34%|███▍      | 34/100 [00:29<00:57,  1.14it/s]"
     ]
    },
    {
     "name": "stdout",
     "output_type": "stream",
     "text": [
      "Input data shape: torch.Size([1, 1, 92])\n",
      "fc_out.weight shape: torch.Size([1, 128])\n",
      "fc_out.bias shape: torch.Size([1])\n",
      "Padding input feature size from 92 to 128\n",
      "Output shape: torch.Size([1, 1])\n",
      "Input data shape: torch.Size([1, 211600, 92])\n",
      "fc_out.weight shape: torch.Size([1, 128])\n",
      "fc_out.bias shape: torch.Size([1])\n",
      "Padding input feature size from 92 to 128\n",
      "Output shape: torch.Size([211600, 1])\n"
     ]
    },
    {
     "name": "stderr",
     "output_type": "stream",
     "text": [
      " 35%|███▌      | 35/100 [00:30<00:57,  1.14it/s]"
     ]
    },
    {
     "name": "stdout",
     "output_type": "stream",
     "text": [
      "Input data shape: torch.Size([1, 1, 92])\n",
      "fc_out.weight shape: torch.Size([1, 128])\n",
      "fc_out.bias shape: torch.Size([1])\n",
      "Padding input feature size from 92 to 128\n",
      "Output shape: torch.Size([1, 1])\n",
      "Input data shape: torch.Size([1, 211600, 92])\n",
      "fc_out.weight shape: torch.Size([1, 128])\n",
      "fc_out.bias shape: torch.Size([1])\n",
      "Padding input feature size from 92 to 128\n",
      "Output shape: torch.Size([211600, 1])\n"
     ]
    },
    {
     "name": "stderr",
     "output_type": "stream",
     "text": [
      " 36%|███▌      | 36/100 [00:31<00:55,  1.15it/s]"
     ]
    },
    {
     "name": "stdout",
     "output_type": "stream",
     "text": [
      "Input data shape: torch.Size([1, 1, 92])\n",
      "fc_out.weight shape: torch.Size([1, 128])\n",
      "fc_out.bias shape: torch.Size([1])\n",
      "Padding input feature size from 92 to 128\n",
      "Output shape: torch.Size([1, 1])\n",
      "Input data shape: torch.Size([1, 211600, 92])\n",
      "fc_out.weight shape: torch.Size([1, 128])\n",
      "fc_out.bias shape: torch.Size([1])\n",
      "Padding input feature size from 92 to 128\n",
      "Output shape: torch.Size([211600, 1])\n"
     ]
    },
    {
     "name": "stderr",
     "output_type": "stream",
     "text": [
      " 37%|███▋      | 37/100 [00:32<00:54,  1.16it/s]"
     ]
    },
    {
     "name": "stdout",
     "output_type": "stream",
     "text": [
      "Input data shape: torch.Size([1, 1, 92])\n",
      "fc_out.weight shape: torch.Size([1, 128])\n",
      "fc_out.bias shape: torch.Size([1])\n",
      "Padding input feature size from 92 to 128\n",
      "Output shape: torch.Size([1, 1])\n",
      "Input data shape: torch.Size([1, 211600, 92])\n",
      "fc_out.weight shape: torch.Size([1, 128])\n",
      "fc_out.bias shape: torch.Size([1])\n",
      "Padding input feature size from 92 to 128\n",
      "Output shape: torch.Size([211600, 1])\n"
     ]
    },
    {
     "name": "stderr",
     "output_type": "stream",
     "text": [
      " 38%|███▊      | 38/100 [00:32<00:53,  1.17it/s]"
     ]
    },
    {
     "name": "stdout",
     "output_type": "stream",
     "text": [
      "Input data shape: torch.Size([1, 1, 92])\n",
      "fc_out.weight shape: torch.Size([1, 128])\n",
      "fc_out.bias shape: torch.Size([1])\n",
      "Padding input feature size from 92 to 128\n",
      "Output shape: torch.Size([1, 1])\n",
      "Input data shape: torch.Size([1, 211600, 92])\n",
      "fc_out.weight shape: torch.Size([1, 128])\n",
      "fc_out.bias shape: torch.Size([1])\n",
      "Padding input feature size from 92 to 128\n",
      "Output shape: torch.Size([211600, 1])\n"
     ]
    },
    {
     "name": "stderr",
     "output_type": "stream",
     "text": [
      " 39%|███▉      | 39/100 [00:33<00:52,  1.16it/s]"
     ]
    },
    {
     "name": "stdout",
     "output_type": "stream",
     "text": [
      "Input data shape: torch.Size([1, 1, 92])\n",
      "fc_out.weight shape: torch.Size([1, 128])\n",
      "fc_out.bias shape: torch.Size([1])\n",
      "Padding input feature size from 92 to 128\n",
      "Output shape: torch.Size([1, 1])\n",
      "Input data shape: torch.Size([1, 211600, 92])\n",
      "fc_out.weight shape: torch.Size([1, 128])\n",
      "fc_out.bias shape: torch.Size([1])\n",
      "Padding input feature size from 92 to 128\n",
      "Output shape: torch.Size([211600, 1])\n"
     ]
    },
    {
     "name": "stderr",
     "output_type": "stream",
     "text": [
      " 40%|████      | 40/100 [00:34<00:51,  1.16it/s]"
     ]
    },
    {
     "name": "stdout",
     "output_type": "stream",
     "text": [
      "Input data shape: torch.Size([1, 1, 92])\n",
      "fc_out.weight shape: torch.Size([1, 128])\n",
      "fc_out.bias shape: torch.Size([1])\n",
      "Padding input feature size from 92 to 128\n",
      "Output shape: torch.Size([1, 1])\n",
      "Input data shape: torch.Size([1, 211600, 92])\n",
      "fc_out.weight shape: torch.Size([1, 128])\n",
      "fc_out.bias shape: torch.Size([1])\n",
      "Padding input feature size from 92 to 128\n",
      "Output shape: torch.Size([211600, 1])\n"
     ]
    },
    {
     "name": "stderr",
     "output_type": "stream",
     "text": [
      " 41%|████      | 41/100 [00:35<00:50,  1.17it/s]"
     ]
    },
    {
     "name": "stdout",
     "output_type": "stream",
     "text": [
      "Input data shape: torch.Size([1, 1, 92])\n",
      "fc_out.weight shape: torch.Size([1, 128])\n",
      "fc_out.bias shape: torch.Size([1])\n",
      "Padding input feature size from 92 to 128\n",
      "Output shape: torch.Size([1, 1])\n",
      "Input data shape: torch.Size([1, 211600, 92])\n",
      "fc_out.weight shape: torch.Size([1, 128])\n",
      "fc_out.bias shape: torch.Size([1])\n",
      "Padding input feature size from 92 to 128\n",
      "Output shape: torch.Size([211600, 1])\n"
     ]
    },
    {
     "name": "stderr",
     "output_type": "stream",
     "text": [
      " 42%|████▏     | 42/100 [00:36<00:49,  1.17it/s]"
     ]
    },
    {
     "name": "stdout",
     "output_type": "stream",
     "text": [
      "Input data shape: torch.Size([1, 1, 92])\n",
      "fc_out.weight shape: torch.Size([1, 128])\n",
      "fc_out.bias shape: torch.Size([1])\n",
      "Padding input feature size from 92 to 128\n",
      "Output shape: torch.Size([1, 1])\n",
      "Input data shape: torch.Size([1, 211600, 92])\n",
      "fc_out.weight shape: torch.Size([1, 128])\n",
      "fc_out.bias shape: torch.Size([1])\n",
      "Padding input feature size from 92 to 128\n",
      "Output shape: torch.Size([211600, 1])\n"
     ]
    },
    {
     "name": "stderr",
     "output_type": "stream",
     "text": [
      " 43%|████▎     | 43/100 [00:37<00:48,  1.17it/s]"
     ]
    },
    {
     "name": "stdout",
     "output_type": "stream",
     "text": [
      "Input data shape: torch.Size([1, 1, 92])\n",
      "fc_out.weight shape: torch.Size([1, 128])\n",
      "fc_out.bias shape: torch.Size([1])\n",
      "Padding input feature size from 92 to 128\n",
      "Output shape: torch.Size([1, 1])\n",
      "Input data shape: torch.Size([1, 211600, 92])\n",
      "fc_out.weight shape: torch.Size([1, 128])\n",
      "fc_out.bias shape: torch.Size([1])\n",
      "Padding input feature size from 92 to 128\n",
      "Output shape: torch.Size([211600, 1])\n"
     ]
    },
    {
     "name": "stderr",
     "output_type": "stream",
     "text": [
      " 44%|████▍     | 44/100 [00:38<00:47,  1.17it/s]"
     ]
    },
    {
     "name": "stdout",
     "output_type": "stream",
     "text": [
      "Input data shape: torch.Size([1, 1, 92])\n",
      "fc_out.weight shape: torch.Size([1, 128])\n",
      "fc_out.bias shape: torch.Size([1])\n",
      "Padding input feature size from 92 to 128\n",
      "Output shape: torch.Size([1, 1])\n",
      "Input data shape: torch.Size([1, 211600, 92])\n",
      "fc_out.weight shape: torch.Size([1, 128])\n",
      "fc_out.bias shape: torch.Size([1])\n",
      "Padding input feature size from 92 to 128\n",
      "Output shape: torch.Size([211600, 1])\n"
     ]
    },
    {
     "name": "stderr",
     "output_type": "stream",
     "text": [
      " 45%|████▌     | 45/100 [00:38<00:46,  1.17it/s]"
     ]
    },
    {
     "name": "stdout",
     "output_type": "stream",
     "text": [
      "Input data shape: torch.Size([1, 1, 92])\n",
      "fc_out.weight shape: torch.Size([1, 128])\n",
      "fc_out.bias shape: torch.Size([1])\n",
      "Padding input feature size from 92 to 128\n",
      "Output shape: torch.Size([1, 1])\n",
      "Input data shape: torch.Size([1, 211600, 92])\n",
      "fc_out.weight shape: torch.Size([1, 128])\n",
      "fc_out.bias shape: torch.Size([1])\n",
      "Padding input feature size from 92 to 128\n",
      "Output shape: torch.Size([211600, 1])\n"
     ]
    },
    {
     "name": "stderr",
     "output_type": "stream",
     "text": [
      " 46%|████▌     | 46/100 [00:39<00:46,  1.17it/s]"
     ]
    },
    {
     "name": "stdout",
     "output_type": "stream",
     "text": [
      "Input data shape: torch.Size([1, 1, 92])\n",
      "fc_out.weight shape: torch.Size([1, 128])\n",
      "fc_out.bias shape: torch.Size([1])\n",
      "Padding input feature size from 92 to 128\n",
      "Output shape: torch.Size([1, 1])\n",
      "Input data shape: torch.Size([1, 211600, 92])\n",
      "fc_out.weight shape: torch.Size([1, 128])\n",
      "fc_out.bias shape: torch.Size([1])\n",
      "Padding input feature size from 92 to 128\n",
      "Output shape: torch.Size([211600, 1])\n"
     ]
    },
    {
     "name": "stderr",
     "output_type": "stream",
     "text": [
      " 47%|████▋     | 47/100 [00:40<00:45,  1.18it/s]"
     ]
    },
    {
     "name": "stdout",
     "output_type": "stream",
     "text": [
      "Input data shape: torch.Size([1, 1, 92])\n",
      "fc_out.weight shape: torch.Size([1, 128])\n",
      "fc_out.bias shape: torch.Size([1])\n",
      "Padding input feature size from 92 to 128\n",
      "Output shape: torch.Size([1, 1])\n",
      "Input data shape: torch.Size([1, 211600, 92])\n",
      "fc_out.weight shape: torch.Size([1, 128])\n",
      "fc_out.bias shape: torch.Size([1])\n",
      "Padding input feature size from 92 to 128\n",
      "Output shape: torch.Size([211600, 1])\n"
     ]
    },
    {
     "name": "stderr",
     "output_type": "stream",
     "text": [
      " 48%|████▊     | 48/100 [00:41<00:44,  1.17it/s]"
     ]
    },
    {
     "name": "stdout",
     "output_type": "stream",
     "text": [
      "Input data shape: torch.Size([1, 1, 92])\n",
      "fc_out.weight shape: torch.Size([1, 128])\n",
      "fc_out.bias shape: torch.Size([1])\n",
      "Padding input feature size from 92 to 128\n",
      "Output shape: torch.Size([1, 1])\n",
      "Input data shape: torch.Size([1, 211600, 92])\n",
      "fc_out.weight shape: torch.Size([1, 128])\n",
      "fc_out.bias shape: torch.Size([1])\n",
      "Padding input feature size from 92 to 128\n",
      "Output shape: torch.Size([211600, 1])\n"
     ]
    },
    {
     "name": "stderr",
     "output_type": "stream",
     "text": [
      " 49%|████▉     | 49/100 [00:42<00:43,  1.17it/s]"
     ]
    },
    {
     "name": "stdout",
     "output_type": "stream",
     "text": [
      "Input data shape: torch.Size([1, 1, 92])\n",
      "fc_out.weight shape: torch.Size([1, 128])\n",
      "fc_out.bias shape: torch.Size([1])\n",
      "Padding input feature size from 92 to 128\n",
      "Output shape: torch.Size([1, 1])\n",
      "Input data shape: torch.Size([1, 211600, 92])\n",
      "fc_out.weight shape: torch.Size([1, 128])\n",
      "fc_out.bias shape: torch.Size([1])\n",
      "Padding input feature size from 92 to 128\n",
      "Output shape: torch.Size([211600, 1])\n"
     ]
    },
    {
     "name": "stderr",
     "output_type": "stream",
     "text": [
      " 50%|█████     | 50/100 [00:43<00:42,  1.18it/s]"
     ]
    },
    {
     "name": "stdout",
     "output_type": "stream",
     "text": [
      "Input data shape: torch.Size([1, 1, 92])\n",
      "fc_out.weight shape: torch.Size([1, 128])\n",
      "fc_out.bias shape: torch.Size([1])\n",
      "Padding input feature size from 92 to 128\n",
      "Output shape: torch.Size([1, 1])\n",
      "Input data shape: torch.Size([1, 211600, 92])\n",
      "fc_out.weight shape: torch.Size([1, 128])\n",
      "fc_out.bias shape: torch.Size([1])\n",
      "Padding input feature size from 92 to 128\n",
      "Output shape: torch.Size([211600, 1])\n"
     ]
    },
    {
     "name": "stderr",
     "output_type": "stream",
     "text": [
      " 51%|█████     | 51/100 [00:44<00:41,  1.17it/s]"
     ]
    },
    {
     "name": "stdout",
     "output_type": "stream",
     "text": [
      "Input data shape: torch.Size([1, 1, 92])\n",
      "fc_out.weight shape: torch.Size([1, 128])\n",
      "fc_out.bias shape: torch.Size([1])\n",
      "Padding input feature size from 92 to 128\n",
      "Output shape: torch.Size([1, 1])\n",
      "Input data shape: torch.Size([1, 211600, 92])\n",
      "fc_out.weight shape: torch.Size([1, 128])\n",
      "fc_out.bias shape: torch.Size([1])\n",
      "Padding input feature size from 92 to 128\n",
      "Output shape: torch.Size([211600, 1])\n"
     ]
    },
    {
     "name": "stderr",
     "output_type": "stream",
     "text": [
      " 52%|█████▏    | 52/100 [00:44<00:40,  1.18it/s]"
     ]
    },
    {
     "name": "stdout",
     "output_type": "stream",
     "text": [
      "Input data shape: torch.Size([1, 1, 92])\n",
      "fc_out.weight shape: torch.Size([1, 128])\n",
      "fc_out.bias shape: torch.Size([1])\n",
      "Padding input feature size from 92 to 128\n",
      "Output shape: torch.Size([1, 1])\n",
      "Input data shape: torch.Size([1, 211600, 92])\n",
      "fc_out.weight shape: torch.Size([1, 128])\n",
      "fc_out.bias shape: torch.Size([1])\n",
      "Padding input feature size from 92 to 128\n",
      "Output shape: torch.Size([211600, 1])\n"
     ]
    },
    {
     "name": "stderr",
     "output_type": "stream",
     "text": [
      " 53%|█████▎    | 53/100 [00:45<00:39,  1.18it/s]"
     ]
    },
    {
     "name": "stdout",
     "output_type": "stream",
     "text": [
      "Input data shape: torch.Size([1, 1, 92])\n",
      "fc_out.weight shape: torch.Size([1, 128])\n",
      "fc_out.bias shape: torch.Size([1])\n",
      "Padding input feature size from 92 to 128\n",
      "Output shape: torch.Size([1, 1])\n",
      "Input data shape: torch.Size([1, 211600, 92])\n",
      "fc_out.weight shape: torch.Size([1, 128])\n",
      "fc_out.bias shape: torch.Size([1])\n",
      "Padding input feature size from 92 to 128\n",
      "Output shape: torch.Size([211600, 1])\n"
     ]
    },
    {
     "name": "stderr",
     "output_type": "stream",
     "text": [
      " 54%|█████▍    | 54/100 [00:46<00:38,  1.18it/s]"
     ]
    },
    {
     "name": "stdout",
     "output_type": "stream",
     "text": [
      "Input data shape: torch.Size([1, 1, 92])\n",
      "fc_out.weight shape: torch.Size([1, 128])\n",
      "fc_out.bias shape: torch.Size([1])\n",
      "Padding input feature size from 92 to 128\n",
      "Output shape: torch.Size([1, 1])\n",
      "Input data shape: torch.Size([1, 211600, 92])\n",
      "fc_out.weight shape: torch.Size([1, 128])\n",
      "fc_out.bias shape: torch.Size([1])\n",
      "Padding input feature size from 92 to 128\n",
      "Output shape: torch.Size([211600, 1])\n"
     ]
    },
    {
     "name": "stderr",
     "output_type": "stream",
     "text": [
      " 55%|█████▌    | 55/100 [00:47<00:38,  1.18it/s]"
     ]
    },
    {
     "name": "stdout",
     "output_type": "stream",
     "text": [
      "Input data shape: torch.Size([1, 1, 92])\n",
      "fc_out.weight shape: torch.Size([1, 128])\n",
      "fc_out.bias shape: torch.Size([1])\n",
      "Padding input feature size from 92 to 128\n",
      "Output shape: torch.Size([1, 1])\n",
      "Input data shape: torch.Size([1, 211600, 92])\n",
      "fc_out.weight shape: torch.Size([1, 128])\n",
      "fc_out.bias shape: torch.Size([1])\n",
      "Padding input feature size from 92 to 128\n",
      "Output shape: torch.Size([211600, 1])\n"
     ]
    },
    {
     "name": "stderr",
     "output_type": "stream",
     "text": [
      " 56%|█████▌    | 56/100 [00:48<00:37,  1.16it/s]"
     ]
    },
    {
     "name": "stdout",
     "output_type": "stream",
     "text": [
      "Input data shape: torch.Size([1, 1, 92])\n",
      "fc_out.weight shape: torch.Size([1, 128])\n",
      "fc_out.bias shape: torch.Size([1])\n",
      "Padding input feature size from 92 to 128\n",
      "Output shape: torch.Size([1, 1])\n",
      "Input data shape: torch.Size([1, 211600, 92])\n",
      "fc_out.weight shape: torch.Size([1, 128])\n",
      "fc_out.bias shape: torch.Size([1])\n",
      "Padding input feature size from 92 to 128\n",
      "Output shape: torch.Size([211600, 1])\n"
     ]
    },
    {
     "name": "stderr",
     "output_type": "stream",
     "text": [
      " 57%|█████▋    | 57/100 [00:49<00:36,  1.17it/s]"
     ]
    },
    {
     "name": "stdout",
     "output_type": "stream",
     "text": [
      "Input data shape: torch.Size([1, 1, 92])\n",
      "fc_out.weight shape: torch.Size([1, 128])\n",
      "fc_out.bias shape: torch.Size([1])\n",
      "Padding input feature size from 92 to 128\n",
      "Output shape: torch.Size([1, 1])\n",
      "Input data shape: torch.Size([1, 211600, 92])\n",
      "fc_out.weight shape: torch.Size([1, 128])\n",
      "fc_out.bias shape: torch.Size([1])\n",
      "Padding input feature size from 92 to 128\n",
      "Output shape: torch.Size([211600, 1])\n"
     ]
    },
    {
     "name": "stderr",
     "output_type": "stream",
     "text": [
      " 58%|█████▊    | 58/100 [00:50<00:36,  1.17it/s]"
     ]
    },
    {
     "name": "stdout",
     "output_type": "stream",
     "text": [
      "Input data shape: torch.Size([1, 1, 92])\n",
      "fc_out.weight shape: torch.Size([1, 128])\n",
      "fc_out.bias shape: torch.Size([1])\n",
      "Padding input feature size from 92 to 128\n",
      "Output shape: torch.Size([1, 1])\n",
      "Input data shape: torch.Size([1, 211600, 92])\n",
      "fc_out.weight shape: torch.Size([1, 128])\n",
      "fc_out.bias shape: torch.Size([1])\n",
      "Padding input feature size from 92 to 128\n",
      "Output shape: torch.Size([211600, 1])\n"
     ]
    },
    {
     "name": "stderr",
     "output_type": "stream",
     "text": [
      " 59%|█████▉    | 59/100 [00:50<00:34,  1.17it/s]"
     ]
    },
    {
     "name": "stdout",
     "output_type": "stream",
     "text": [
      "Input data shape: torch.Size([1, 1, 92])\n",
      "fc_out.weight shape: torch.Size([1, 128])\n",
      "fc_out.bias shape: torch.Size([1])\n",
      "Padding input feature size from 92 to 128\n",
      "Output shape: torch.Size([1, 1])\n",
      "Input data shape: torch.Size([1, 211600, 92])\n",
      "fc_out.weight shape: torch.Size([1, 128])\n",
      "fc_out.bias shape: torch.Size([1])\n",
      "Padding input feature size from 92 to 128\n",
      "Output shape: torch.Size([211600, 1])\n"
     ]
    },
    {
     "name": "stderr",
     "output_type": "stream",
     "text": [
      " 60%|██████    | 60/100 [00:51<00:33,  1.18it/s]"
     ]
    },
    {
     "name": "stdout",
     "output_type": "stream",
     "text": [
      "Input data shape: torch.Size([1, 1, 92])\n",
      "fc_out.weight shape: torch.Size([1, 128])\n",
      "fc_out.bias shape: torch.Size([1])\n",
      "Padding input feature size from 92 to 128\n",
      "Output shape: torch.Size([1, 1])\n",
      "Input data shape: torch.Size([1, 211600, 92])\n",
      "fc_out.weight shape: torch.Size([1, 128])\n",
      "fc_out.bias shape: torch.Size([1])\n",
      "Padding input feature size from 92 to 128\n",
      "Output shape: torch.Size([211600, 1])\n"
     ]
    },
    {
     "name": "stderr",
     "output_type": "stream",
     "text": [
      " 61%|██████    | 61/100 [00:52<00:33,  1.17it/s]"
     ]
    },
    {
     "name": "stdout",
     "output_type": "stream",
     "text": [
      "Input data shape: torch.Size([1, 1, 92])\n",
      "fc_out.weight shape: torch.Size([1, 128])\n",
      "fc_out.bias shape: torch.Size([1])\n",
      "Padding input feature size from 92 to 128\n",
      "Output shape: torch.Size([1, 1])\n",
      "Input data shape: torch.Size([1, 211600, 92])\n",
      "fc_out.weight shape: torch.Size([1, 128])\n",
      "fc_out.bias shape: torch.Size([1])\n",
      "Padding input feature size from 92 to 128\n",
      "Output shape: torch.Size([211600, 1])\n"
     ]
    },
    {
     "name": "stderr",
     "output_type": "stream",
     "text": [
      " 62%|██████▏   | 62/100 [00:53<00:32,  1.17it/s]"
     ]
    },
    {
     "name": "stdout",
     "output_type": "stream",
     "text": [
      "Input data shape: torch.Size([1, 1, 92])\n",
      "fc_out.weight shape: torch.Size([1, 128])\n",
      "fc_out.bias shape: torch.Size([1])\n",
      "Padding input feature size from 92 to 128\n",
      "Output shape: torch.Size([1, 1])\n",
      "Input data shape: torch.Size([1, 211600, 92])\n",
      "fc_out.weight shape: torch.Size([1, 128])\n",
      "fc_out.bias shape: torch.Size([1])\n",
      "Padding input feature size from 92 to 128\n",
      "Output shape: torch.Size([211600, 1])\n"
     ]
    },
    {
     "name": "stderr",
     "output_type": "stream",
     "text": [
      " 63%|██████▎   | 63/100 [00:54<00:31,  1.18it/s]"
     ]
    },
    {
     "name": "stdout",
     "output_type": "stream",
     "text": [
      "Input data shape: torch.Size([1, 1, 92])\n",
      "fc_out.weight shape: torch.Size([1, 128])\n",
      "fc_out.bias shape: torch.Size([1])\n",
      "Padding input feature size from 92 to 128\n",
      "Output shape: torch.Size([1, 1])\n",
      "Input data shape: torch.Size([1, 211600, 92])\n",
      "fc_out.weight shape: torch.Size([1, 128])\n",
      "fc_out.bias shape: torch.Size([1])\n",
      "Padding input feature size from 92 to 128\n",
      "Output shape: torch.Size([211600, 1])\n"
     ]
    },
    {
     "name": "stderr",
     "output_type": "stream",
     "text": [
      " 64%|██████▍   | 64/100 [00:55<00:30,  1.17it/s]"
     ]
    },
    {
     "name": "stdout",
     "output_type": "stream",
     "text": [
      "Input data shape: torch.Size([1, 1, 92])\n",
      "fc_out.weight shape: torch.Size([1, 128])\n",
      "fc_out.bias shape: torch.Size([1])\n",
      "Padding input feature size from 92 to 128\n",
      "Output shape: torch.Size([1, 1])\n",
      "Input data shape: torch.Size([1, 211600, 92])\n",
      "fc_out.weight shape: torch.Size([1, 128])\n",
      "fc_out.bias shape: torch.Size([1])\n",
      "Padding input feature size from 92 to 128\n",
      "Output shape: torch.Size([211600, 1])\n"
     ]
    },
    {
     "name": "stderr",
     "output_type": "stream",
     "text": [
      " 65%|██████▌   | 65/100 [00:55<00:29,  1.18it/s]"
     ]
    },
    {
     "name": "stdout",
     "output_type": "stream",
     "text": [
      "Input data shape: torch.Size([1, 1, 92])\n",
      "fc_out.weight shape: torch.Size([1, 128])\n",
      "fc_out.bias shape: torch.Size([1])\n",
      "Padding input feature size from 92 to 128\n",
      "Output shape: torch.Size([1, 1])\n",
      "Input data shape: torch.Size([1, 211600, 92])\n",
      "fc_out.weight shape: torch.Size([1, 128])\n",
      "fc_out.bias shape: torch.Size([1])\n",
      "Padding input feature size from 92 to 128\n",
      "Output shape: torch.Size([211600, 1])\n"
     ]
    },
    {
     "name": "stderr",
     "output_type": "stream",
     "text": [
      " 66%|██████▌   | 66/100 [00:56<00:28,  1.17it/s]"
     ]
    },
    {
     "name": "stdout",
     "output_type": "stream",
     "text": [
      "Input data shape: torch.Size([1, 1, 92])\n",
      "fc_out.weight shape: torch.Size([1, 128])\n",
      "fc_out.bias shape: torch.Size([1])\n",
      "Padding input feature size from 92 to 128\n",
      "Output shape: torch.Size([1, 1])\n",
      "Input data shape: torch.Size([1, 211600, 92])\n",
      "fc_out.weight shape: torch.Size([1, 128])\n",
      "fc_out.bias shape: torch.Size([1])\n",
      "Padding input feature size from 92 to 128\n",
      "Output shape: torch.Size([211600, 1])\n"
     ]
    },
    {
     "name": "stderr",
     "output_type": "stream",
     "text": [
      " 67%|██████▋   | 67/100 [00:57<00:28,  1.17it/s]"
     ]
    },
    {
     "name": "stdout",
     "output_type": "stream",
     "text": [
      "Input data shape: torch.Size([1, 1, 92])\n",
      "fc_out.weight shape: torch.Size([1, 128])\n",
      "fc_out.bias shape: torch.Size([1])\n",
      "Padding input feature size from 92 to 128\n",
      "Output shape: torch.Size([1, 1])\n",
      "Input data shape: torch.Size([1, 211600, 92])\n",
      "fc_out.weight shape: torch.Size([1, 128])\n",
      "fc_out.bias shape: torch.Size([1])\n",
      "Padding input feature size from 92 to 128\n",
      "Output shape: torch.Size([211600, 1])\n"
     ]
    },
    {
     "name": "stderr",
     "output_type": "stream",
     "text": [
      " 68%|██████▊   | 68/100 [00:58<00:27,  1.17it/s]"
     ]
    },
    {
     "name": "stdout",
     "output_type": "stream",
     "text": [
      "Input data shape: torch.Size([1, 1, 92])\n",
      "fc_out.weight shape: torch.Size([1, 128])\n",
      "fc_out.bias shape: torch.Size([1])\n",
      "Padding input feature size from 92 to 128\n",
      "Output shape: torch.Size([1, 1])\n",
      "Input data shape: torch.Size([1, 211600, 92])\n",
      "fc_out.weight shape: torch.Size([1, 128])\n",
      "fc_out.bias shape: torch.Size([1])\n",
      "Padding input feature size from 92 to 128\n",
      "Output shape: torch.Size([211600, 1])\n"
     ]
    },
    {
     "name": "stderr",
     "output_type": "stream",
     "text": [
      " 69%|██████▉   | 69/100 [00:59<00:26,  1.17it/s]"
     ]
    },
    {
     "name": "stdout",
     "output_type": "stream",
     "text": [
      "Input data shape: torch.Size([1, 1, 92])\n",
      "fc_out.weight shape: torch.Size([1, 128])\n",
      "fc_out.bias shape: torch.Size([1])\n",
      "Padding input feature size from 92 to 128\n",
      "Output shape: torch.Size([1, 1])\n",
      "Input data shape: torch.Size([1, 211600, 92])\n",
      "fc_out.weight shape: torch.Size([1, 128])\n",
      "fc_out.bias shape: torch.Size([1])\n",
      "Padding input feature size from 92 to 128\n",
      "Output shape: torch.Size([211600, 1])\n"
     ]
    },
    {
     "name": "stderr",
     "output_type": "stream",
     "text": [
      " 70%|███████   | 70/100 [01:00<00:25,  1.17it/s]"
     ]
    },
    {
     "name": "stdout",
     "output_type": "stream",
     "text": [
      "Input data shape: torch.Size([1, 1, 92])\n",
      "fc_out.weight shape: torch.Size([1, 128])\n",
      "fc_out.bias shape: torch.Size([1])\n",
      "Padding input feature size from 92 to 128\n",
      "Output shape: torch.Size([1, 1])\n",
      "Input data shape: torch.Size([1, 211600, 92])\n",
      "fc_out.weight shape: torch.Size([1, 128])\n",
      "fc_out.bias shape: torch.Size([1])\n",
      "Padding input feature size from 92 to 128\n",
      "Output shape: torch.Size([211600, 1])\n"
     ]
    },
    {
     "name": "stderr",
     "output_type": "stream",
     "text": [
      " 71%|███████   | 71/100 [01:01<00:24,  1.17it/s]"
     ]
    },
    {
     "name": "stdout",
     "output_type": "stream",
     "text": [
      "Input data shape: torch.Size([1, 1, 92])\n",
      "fc_out.weight shape: torch.Size([1, 128])\n",
      "fc_out.bias shape: torch.Size([1])\n",
      "Padding input feature size from 92 to 128\n",
      "Output shape: torch.Size([1, 1])\n",
      "Input data shape: torch.Size([1, 211600, 92])\n",
      "fc_out.weight shape: torch.Size([1, 128])\n",
      "fc_out.bias shape: torch.Size([1])\n",
      "Padding input feature size from 92 to 128\n",
      "Output shape: torch.Size([211600, 1])\n"
     ]
    },
    {
     "name": "stderr",
     "output_type": "stream",
     "text": [
      " 72%|███████▏  | 72/100 [01:01<00:23,  1.17it/s]"
     ]
    },
    {
     "name": "stdout",
     "output_type": "stream",
     "text": [
      "Input data shape: torch.Size([1, 1, 92])\n",
      "fc_out.weight shape: torch.Size([1, 128])\n",
      "fc_out.bias shape: torch.Size([1])\n",
      "Padding input feature size from 92 to 128\n",
      "Output shape: torch.Size([1, 1])\n",
      "Input data shape: torch.Size([1, 211600, 92])\n",
      "fc_out.weight shape: torch.Size([1, 128])\n",
      "fc_out.bias shape: torch.Size([1])\n",
      "Padding input feature size from 92 to 128\n",
      "Output shape: torch.Size([211600, 1])\n"
     ]
    },
    {
     "name": "stderr",
     "output_type": "stream",
     "text": [
      " 73%|███████▎  | 73/100 [01:02<00:23,  1.17it/s]"
     ]
    },
    {
     "name": "stdout",
     "output_type": "stream",
     "text": [
      "Input data shape: torch.Size([1, 1, 92])\n",
      "fc_out.weight shape: torch.Size([1, 128])\n",
      "fc_out.bias shape: torch.Size([1])\n",
      "Padding input feature size from 92 to 128\n",
      "Output shape: torch.Size([1, 1])\n",
      "Input data shape: torch.Size([1, 211600, 92])\n",
      "fc_out.weight shape: torch.Size([1, 128])\n",
      "fc_out.bias shape: torch.Size([1])\n",
      "Padding input feature size from 92 to 128\n",
      "Output shape: torch.Size([211600, 1])\n"
     ]
    },
    {
     "name": "stderr",
     "output_type": "stream",
     "text": [
      " 74%|███████▍  | 74/100 [01:03<00:22,  1.17it/s]"
     ]
    },
    {
     "name": "stdout",
     "output_type": "stream",
     "text": [
      "Input data shape: torch.Size([1, 1, 92])\n",
      "fc_out.weight shape: torch.Size([1, 128])\n",
      "fc_out.bias shape: torch.Size([1])\n",
      "Padding input feature size from 92 to 128\n",
      "Output shape: torch.Size([1, 1])\n",
      "Input data shape: torch.Size([1, 211600, 92])\n",
      "fc_out.weight shape: torch.Size([1, 128])\n",
      "fc_out.bias shape: torch.Size([1])\n",
      "Padding input feature size from 92 to 128\n",
      "Output shape: torch.Size([211600, 1])\n"
     ]
    },
    {
     "name": "stderr",
     "output_type": "stream",
     "text": [
      " 75%|███████▌  | 75/100 [01:04<00:21,  1.18it/s]"
     ]
    },
    {
     "name": "stdout",
     "output_type": "stream",
     "text": [
      "Input data shape: torch.Size([1, 1, 92])\n",
      "fc_out.weight shape: torch.Size([1, 128])\n",
      "fc_out.bias shape: torch.Size([1])\n",
      "Padding input feature size from 92 to 128\n",
      "Output shape: torch.Size([1, 1])\n",
      "Input data shape: torch.Size([1, 211600, 92])\n",
      "fc_out.weight shape: torch.Size([1, 128])\n",
      "fc_out.bias shape: torch.Size([1])\n",
      "Padding input feature size from 92 to 128\n",
      "Output shape: torch.Size([211600, 1])\n"
     ]
    },
    {
     "name": "stderr",
     "output_type": "stream",
     "text": [
      " 76%|███████▌  | 76/100 [01:05<00:20,  1.17it/s]"
     ]
    },
    {
     "name": "stdout",
     "output_type": "stream",
     "text": [
      "Input data shape: torch.Size([1, 1, 92])\n",
      "fc_out.weight shape: torch.Size([1, 128])\n",
      "fc_out.bias shape: torch.Size([1])\n",
      "Padding input feature size from 92 to 128\n",
      "Output shape: torch.Size([1, 1])\n",
      "Input data shape: torch.Size([1, 211600, 92])\n",
      "fc_out.weight shape: torch.Size([1, 128])\n",
      "fc_out.bias shape: torch.Size([1])\n",
      "Padding input feature size from 92 to 128\n",
      "Output shape: torch.Size([211600, 1])\n"
     ]
    },
    {
     "name": "stderr",
     "output_type": "stream",
     "text": [
      " 77%|███████▋  | 77/100 [01:06<00:20,  1.14it/s]"
     ]
    },
    {
     "name": "stdout",
     "output_type": "stream",
     "text": [
      "Input data shape: torch.Size([1, 1, 92])\n",
      "fc_out.weight shape: torch.Size([1, 128])\n",
      "fc_out.bias shape: torch.Size([1])\n",
      "Padding input feature size from 92 to 128\n",
      "Output shape: torch.Size([1, 1])\n",
      "Input data shape: torch.Size([1, 211600, 92])\n",
      "fc_out.weight shape: torch.Size([1, 128])\n",
      "fc_out.bias shape: torch.Size([1])\n",
      "Padding input feature size from 92 to 128\n",
      "Output shape: torch.Size([211600, 1])\n"
     ]
    },
    {
     "name": "stderr",
     "output_type": "stream",
     "text": [
      " 78%|███████▊  | 78/100 [01:07<00:19,  1.11it/s]"
     ]
    },
    {
     "name": "stdout",
     "output_type": "stream",
     "text": [
      "Input data shape: torch.Size([1, 1, 92])\n",
      "fc_out.weight shape: torch.Size([1, 128])\n",
      "fc_out.bias shape: torch.Size([1])\n",
      "Padding input feature size from 92 to 128\n",
      "Output shape: torch.Size([1, 1])\n",
      "Input data shape: torch.Size([1, 211600, 92])\n",
      "fc_out.weight shape: torch.Size([1, 128])\n",
      "fc_out.bias shape: torch.Size([1])\n",
      "Padding input feature size from 92 to 128\n",
      "Output shape: torch.Size([211600, 1])\n"
     ]
    },
    {
     "name": "stderr",
     "output_type": "stream",
     "text": [
      " 79%|███████▉  | 79/100 [01:08<00:18,  1.11it/s]"
     ]
    },
    {
     "name": "stdout",
     "output_type": "stream",
     "text": [
      "Input data shape: torch.Size([1, 1, 92])\n",
      "fc_out.weight shape: torch.Size([1, 128])\n",
      "fc_out.bias shape: torch.Size([1])\n",
      "Padding input feature size from 92 to 128\n",
      "Output shape: torch.Size([1, 1])\n",
      "Input data shape: torch.Size([1, 211600, 92])\n",
      "fc_out.weight shape: torch.Size([1, 128])\n",
      "fc_out.bias shape: torch.Size([1])\n",
      "Padding input feature size from 92 to 128\n",
      "Output shape: torch.Size([211600, 1])\n"
     ]
    },
    {
     "name": "stderr",
     "output_type": "stream",
     "text": [
      " 80%|████████  | 80/100 [01:09<00:18,  1.11it/s]"
     ]
    },
    {
     "name": "stdout",
     "output_type": "stream",
     "text": [
      "Input data shape: torch.Size([1, 1, 92])\n",
      "fc_out.weight shape: torch.Size([1, 128])\n",
      "fc_out.bias shape: torch.Size([1])\n",
      "Padding input feature size from 92 to 128\n",
      "Output shape: torch.Size([1, 1])\n",
      "Input data shape: torch.Size([1, 211600, 92])\n",
      "fc_out.weight shape: torch.Size([1, 128])\n",
      "fc_out.bias shape: torch.Size([1])\n",
      "Padding input feature size from 92 to 128\n",
      "Output shape: torch.Size([211600, 1])\n"
     ]
    },
    {
     "name": "stderr",
     "output_type": "stream",
     "text": [
      " 81%|████████  | 81/100 [01:09<00:17,  1.11it/s]"
     ]
    },
    {
     "name": "stdout",
     "output_type": "stream",
     "text": [
      "Input data shape: torch.Size([1, 1, 92])\n",
      "fc_out.weight shape: torch.Size([1, 128])\n",
      "fc_out.bias shape: torch.Size([1])\n",
      "Padding input feature size from 92 to 128\n",
      "Output shape: torch.Size([1, 1])\n",
      "Input data shape: torch.Size([1, 211600, 92])\n",
      "fc_out.weight shape: torch.Size([1, 128])\n",
      "fc_out.bias shape: torch.Size([1])\n",
      "Padding input feature size from 92 to 128\n",
      "Output shape: torch.Size([211600, 1])\n"
     ]
    },
    {
     "name": "stderr",
     "output_type": "stream",
     "text": [
      " 82%|████████▏ | 82/100 [01:10<00:15,  1.13it/s]"
     ]
    },
    {
     "name": "stdout",
     "output_type": "stream",
     "text": [
      "Input data shape: torch.Size([1, 1, 92])\n",
      "fc_out.weight shape: torch.Size([1, 128])\n",
      "fc_out.bias shape: torch.Size([1])\n",
      "Padding input feature size from 92 to 128\n",
      "Output shape: torch.Size([1, 1])\n",
      "Input data shape: torch.Size([1, 211600, 92])\n",
      "fc_out.weight shape: torch.Size([1, 128])\n",
      "fc_out.bias shape: torch.Size([1])\n",
      "Padding input feature size from 92 to 128\n",
      "Output shape: torch.Size([211600, 1])\n"
     ]
    },
    {
     "name": "stderr",
     "output_type": "stream",
     "text": [
      " 83%|████████▎ | 83/100 [01:11<00:14,  1.13it/s]"
     ]
    },
    {
     "name": "stdout",
     "output_type": "stream",
     "text": [
      "Input data shape: torch.Size([1, 1, 92])\n",
      "fc_out.weight shape: torch.Size([1, 128])\n",
      "fc_out.bias shape: torch.Size([1])\n",
      "Padding input feature size from 92 to 128\n",
      "Output shape: torch.Size([1, 1])\n",
      "Input data shape: torch.Size([1, 211600, 92])\n",
      "fc_out.weight shape: torch.Size([1, 128])\n",
      "fc_out.bias shape: torch.Size([1])\n",
      "Padding input feature size from 92 to 128\n",
      "Output shape: torch.Size([211600, 1])\n"
     ]
    },
    {
     "name": "stderr",
     "output_type": "stream",
     "text": [
      " 84%|████████▍ | 84/100 [01:12<00:14,  1.13it/s]"
     ]
    },
    {
     "name": "stdout",
     "output_type": "stream",
     "text": [
      "Input data shape: torch.Size([1, 1, 92])\n",
      "fc_out.weight shape: torch.Size([1, 128])\n",
      "fc_out.bias shape: torch.Size([1])\n",
      "Padding input feature size from 92 to 128\n",
      "Output shape: torch.Size([1, 1])\n",
      "Input data shape: torch.Size([1, 211600, 92])\n",
      "fc_out.weight shape: torch.Size([1, 128])\n",
      "fc_out.bias shape: torch.Size([1])\n",
      "Padding input feature size from 92 to 128\n",
      "Output shape: torch.Size([211600, 1])\n"
     ]
    },
    {
     "name": "stderr",
     "output_type": "stream",
     "text": [
      " 85%|████████▌ | 85/100 [01:13<00:13,  1.11it/s]"
     ]
    },
    {
     "name": "stdout",
     "output_type": "stream",
     "text": [
      "Input data shape: torch.Size([1, 1, 92])\n",
      "fc_out.weight shape: torch.Size([1, 128])\n",
      "fc_out.bias shape: torch.Size([1])\n",
      "Padding input feature size from 92 to 128\n",
      "Output shape: torch.Size([1, 1])\n",
      "Input data shape: torch.Size([1, 211600, 92])\n",
      "fc_out.weight shape: torch.Size([1, 128])\n",
      "fc_out.bias shape: torch.Size([1])\n",
      "Padding input feature size from 92 to 128\n",
      "Output shape: torch.Size([211600, 1])\n"
     ]
    },
    {
     "name": "stderr",
     "output_type": "stream",
     "text": [
      " 86%|████████▌ | 86/100 [01:14<00:12,  1.12it/s]"
     ]
    },
    {
     "name": "stdout",
     "output_type": "stream",
     "text": [
      "Input data shape: torch.Size([1, 1, 92])\n",
      "fc_out.weight shape: torch.Size([1, 128])\n",
      "fc_out.bias shape: torch.Size([1])\n",
      "Padding input feature size from 92 to 128\n",
      "Output shape: torch.Size([1, 1])\n",
      "Input data shape: torch.Size([1, 211600, 92])\n",
      "fc_out.weight shape: torch.Size([1, 128])\n",
      "fc_out.bias shape: torch.Size([1])\n",
      "Padding input feature size from 92 to 128\n",
      "Output shape: torch.Size([211600, 1])\n"
     ]
    },
    {
     "name": "stderr",
     "output_type": "stream",
     "text": [
      " 87%|████████▋ | 87/100 [01:15<00:11,  1.11it/s]"
     ]
    },
    {
     "name": "stdout",
     "output_type": "stream",
     "text": [
      "Input data shape: torch.Size([1, 1, 92])\n",
      "fc_out.weight shape: torch.Size([1, 128])\n",
      "fc_out.bias shape: torch.Size([1])\n",
      "Padding input feature size from 92 to 128\n",
      "Output shape: torch.Size([1, 1])\n",
      "Input data shape: torch.Size([1, 211600, 92])\n",
      "fc_out.weight shape: torch.Size([1, 128])\n",
      "fc_out.bias shape: torch.Size([1])\n",
      "Padding input feature size from 92 to 128\n",
      "Output shape: torch.Size([211600, 1])\n"
     ]
    },
    {
     "name": "stderr",
     "output_type": "stream",
     "text": [
      " 88%|████████▊ | 88/100 [01:16<00:10,  1.12it/s]"
     ]
    },
    {
     "name": "stdout",
     "output_type": "stream",
     "text": [
      "Input data shape: torch.Size([1, 1, 92])\n",
      "fc_out.weight shape: torch.Size([1, 128])\n",
      "fc_out.bias shape: torch.Size([1])\n",
      "Padding input feature size from 92 to 128\n",
      "Output shape: torch.Size([1, 1])\n",
      "Input data shape: torch.Size([1, 211600, 92])\n",
      "fc_out.weight shape: torch.Size([1, 128])\n",
      "fc_out.bias shape: torch.Size([1])\n",
      "Padding input feature size from 92 to 128\n",
      "Output shape: torch.Size([211600, 1])\n"
     ]
    },
    {
     "name": "stderr",
     "output_type": "stream",
     "text": [
      " 89%|████████▉ | 89/100 [01:17<00:09,  1.13it/s]"
     ]
    },
    {
     "name": "stdout",
     "output_type": "stream",
     "text": [
      "Input data shape: torch.Size([1, 1, 92])\n",
      "fc_out.weight shape: torch.Size([1, 128])\n",
      "fc_out.bias shape: torch.Size([1])\n",
      "Padding input feature size from 92 to 128\n",
      "Output shape: torch.Size([1, 1])\n",
      "Input data shape: torch.Size([1, 211600, 92])\n",
      "fc_out.weight shape: torch.Size([1, 128])\n",
      "fc_out.bias shape: torch.Size([1])\n",
      "Padding input feature size from 92 to 128\n",
      "Output shape: torch.Size([211600, 1])\n"
     ]
    },
    {
     "name": "stderr",
     "output_type": "stream",
     "text": [
      " 90%|█████████ | 90/100 [01:17<00:08,  1.14it/s]"
     ]
    },
    {
     "name": "stdout",
     "output_type": "stream",
     "text": [
      "Input data shape: torch.Size([1, 1, 92])\n",
      "fc_out.weight shape: torch.Size([1, 128])\n",
      "fc_out.bias shape: torch.Size([1])\n",
      "Padding input feature size from 92 to 128\n",
      "Output shape: torch.Size([1, 1])\n",
      "Input data shape: torch.Size([1, 211600, 92])\n",
      "fc_out.weight shape: torch.Size([1, 128])\n",
      "fc_out.bias shape: torch.Size([1])\n",
      "Padding input feature size from 92 to 128\n",
      "Output shape: torch.Size([211600, 1])\n"
     ]
    },
    {
     "name": "stderr",
     "output_type": "stream",
     "text": [
      " 91%|█████████ | 91/100 [01:18<00:07,  1.15it/s]"
     ]
    },
    {
     "name": "stdout",
     "output_type": "stream",
     "text": [
      "Input data shape: torch.Size([1, 1, 92])\n",
      "fc_out.weight shape: torch.Size([1, 128])\n",
      "fc_out.bias shape: torch.Size([1])\n",
      "Padding input feature size from 92 to 128\n",
      "Output shape: torch.Size([1, 1])\n",
      "Input data shape: torch.Size([1, 211600, 92])\n",
      "fc_out.weight shape: torch.Size([1, 128])\n",
      "fc_out.bias shape: torch.Size([1])\n",
      "Padding input feature size from 92 to 128\n",
      "Output shape: torch.Size([211600, 1])\n"
     ]
    },
    {
     "name": "stderr",
     "output_type": "stream",
     "text": [
      " 92%|█████████▏| 92/100 [01:19<00:06,  1.15it/s]"
     ]
    },
    {
     "name": "stdout",
     "output_type": "stream",
     "text": [
      "Input data shape: torch.Size([1, 1, 92])\n",
      "fc_out.weight shape: torch.Size([1, 128])\n",
      "fc_out.bias shape: torch.Size([1])\n",
      "Padding input feature size from 92 to 128\n",
      "Output shape: torch.Size([1, 1])\n",
      "Input data shape: torch.Size([1, 211600, 92])\n",
      "fc_out.weight shape: torch.Size([1, 128])\n",
      "fc_out.bias shape: torch.Size([1])\n",
      "Padding input feature size from 92 to 128\n",
      "Output shape: torch.Size([211600, 1])\n"
     ]
    },
    {
     "name": "stderr",
     "output_type": "stream",
     "text": [
      " 93%|█████████▎| 93/100 [01:20<00:06,  1.16it/s]"
     ]
    },
    {
     "name": "stdout",
     "output_type": "stream",
     "text": [
      "Input data shape: torch.Size([1, 1, 92])\n",
      "fc_out.weight shape: torch.Size([1, 128])\n",
      "fc_out.bias shape: torch.Size([1])\n",
      "Padding input feature size from 92 to 128\n",
      "Output shape: torch.Size([1, 1])\n",
      "Input data shape: torch.Size([1, 211600, 92])\n",
      "fc_out.weight shape: torch.Size([1, 128])\n",
      "fc_out.bias shape: torch.Size([1])\n",
      "Padding input feature size from 92 to 128\n",
      "Output shape: torch.Size([211600, 1])\n"
     ]
    },
    {
     "name": "stderr",
     "output_type": "stream",
     "text": [
      " 94%|█████████▍| 94/100 [01:21<00:05,  1.15it/s]"
     ]
    },
    {
     "name": "stdout",
     "output_type": "stream",
     "text": [
      "Input data shape: torch.Size([1, 1, 92])\n",
      "fc_out.weight shape: torch.Size([1, 128])\n",
      "fc_out.bias shape: torch.Size([1])\n",
      "Padding input feature size from 92 to 128\n",
      "Output shape: torch.Size([1, 1])\n",
      "Input data shape: torch.Size([1, 211600, 92])\n",
      "fc_out.weight shape: torch.Size([1, 128])\n",
      "fc_out.bias shape: torch.Size([1])\n",
      "Padding input feature size from 92 to 128\n",
      "Output shape: torch.Size([211600, 1])\n"
     ]
    },
    {
     "name": "stderr",
     "output_type": "stream",
     "text": [
      " 95%|█████████▌| 95/100 [01:22<00:04,  1.16it/s]"
     ]
    },
    {
     "name": "stdout",
     "output_type": "stream",
     "text": [
      "Input data shape: torch.Size([1, 1, 92])\n",
      "fc_out.weight shape: torch.Size([1, 128])\n",
      "fc_out.bias shape: torch.Size([1])\n",
      "Padding input feature size from 92 to 128\n",
      "Output shape: torch.Size([1, 1])\n",
      "Input data shape: torch.Size([1, 211600, 92])\n",
      "fc_out.weight shape: torch.Size([1, 128])\n",
      "fc_out.bias shape: torch.Size([1])\n",
      "Padding input feature size from 92 to 128\n",
      "Output shape: torch.Size([211600, 1])\n"
     ]
    },
    {
     "name": "stderr",
     "output_type": "stream",
     "text": [
      " 96%|█████████▌| 96/100 [01:23<00:03,  1.16it/s]"
     ]
    },
    {
     "name": "stdout",
     "output_type": "stream",
     "text": [
      "Input data shape: torch.Size([1, 1, 92])\n",
      "fc_out.weight shape: torch.Size([1, 128])\n",
      "fc_out.bias shape: torch.Size([1])\n",
      "Padding input feature size from 92 to 128\n",
      "Output shape: torch.Size([1, 1])\n",
      "Input data shape: torch.Size([1, 211600, 92])\n",
      "fc_out.weight shape: torch.Size([1, 128])\n",
      "fc_out.bias shape: torch.Size([1])\n",
      "Padding input feature size from 92 to 128\n",
      "Output shape: torch.Size([211600, 1])\n"
     ]
    },
    {
     "name": "stderr",
     "output_type": "stream",
     "text": [
      " 97%|█████████▋| 97/100 [01:23<00:02,  1.15it/s]"
     ]
    },
    {
     "name": "stdout",
     "output_type": "stream",
     "text": [
      "Input data shape: torch.Size([1, 1, 92])\n",
      "fc_out.weight shape: torch.Size([1, 128])\n",
      "fc_out.bias shape: torch.Size([1])\n",
      "Padding input feature size from 92 to 128\n",
      "Output shape: torch.Size([1, 1])\n",
      "Input data shape: torch.Size([1, 211600, 92])\n",
      "fc_out.weight shape: torch.Size([1, 128])\n",
      "fc_out.bias shape: torch.Size([1])\n",
      "Padding input feature size from 92 to 128\n",
      "Output shape: torch.Size([211600, 1])\n"
     ]
    },
    {
     "name": "stderr",
     "output_type": "stream",
     "text": [
      " 98%|█████████▊| 98/100 [01:24<00:01,  1.15it/s]"
     ]
    },
    {
     "name": "stdout",
     "output_type": "stream",
     "text": [
      "Input data shape: torch.Size([1, 1, 92])\n",
      "fc_out.weight shape: torch.Size([1, 128])\n",
      "fc_out.bias shape: torch.Size([1])\n",
      "Padding input feature size from 92 to 128\n",
      "Output shape: torch.Size([1, 1])\n",
      "Input data shape: torch.Size([1, 211600, 92])\n",
      "fc_out.weight shape: torch.Size([1, 128])\n",
      "fc_out.bias shape: torch.Size([1])\n",
      "Padding input feature size from 92 to 128\n",
      "Output shape: torch.Size([211600, 1])\n"
     ]
    },
    {
     "name": "stderr",
     "output_type": "stream",
     "text": [
      " 99%|█████████▉| 99/100 [01:25<00:00,  1.15it/s]"
     ]
    },
    {
     "name": "stdout",
     "output_type": "stream",
     "text": [
      "Input data shape: torch.Size([1, 1, 92])\n",
      "fc_out.weight shape: torch.Size([1, 128])\n",
      "fc_out.bias shape: torch.Size([1])\n",
      "Padding input feature size from 92 to 128\n",
      "Output shape: torch.Size([1, 1])\n",
      "Input data shape: torch.Size([1, 211600, 92])\n",
      "fc_out.weight shape: torch.Size([1, 128])\n",
      "fc_out.bias shape: torch.Size([1])\n",
      "Padding input feature size from 92 to 128\n",
      "Output shape: torch.Size([211600, 1])\n"
     ]
    },
    {
     "name": "stderr",
     "output_type": "stream",
     "text": [
      "100%|██████████| 100/100 [01:26<00:00,  1.16it/s]"
     ]
    },
    {
     "name": "stdout",
     "output_type": "stream",
     "text": [
      "SHAP values shape: (100, 92, 1)\n",
      "Reshaped SHAP values shape: (100, 92)\n"
     ]
    },
    {
     "name": "stderr",
     "output_type": "stream",
     "text": [
      "\n"
     ]
    },
    {
     "data": {
      "image/png": "[encoded data removed]",
      "text/plain": [
       "<Figure size 800x950 with 1 Axes>"
      ]
     },
     "metadata": {},
     "output_type": "display_data"
    },
    {
     "name": "stdout",
     "output_type": "stream",
     "text": [
      "SHAP analysis completed. Results saved in 'shap_summary.png'.\n",
      "\n",
      "Top 10 most important features:\n",
      "Feature 49: 0.1492\n",
      "Feature 73: 0.0836\n",
      "Feature 78: 0.0612\n",
      "Feature 46: 0.0521\n",
      "Feature 74: 0.0501\n",
      "Feature 1: 0.0388\n",
      "Feature 30: 0.0381\n",
      "Feature 36: 0.0194\n",
      "Feature 31: 0.0188\n",
      "Feature 14: 0.0175\n"
     ]
    }
   ],
   "source": [
    "import torch\n",
    "import shap\n",
    "import numpy as np\n",
    "from cgcnn.data import CIFData\n",
    "from cgcnn.data import collate_pool\n",
    "from torch.utils.data import DataLoader\n",
    "import matplotlib.pyplot as plt\n",
    "\n",
    "# 加载数据\n",
    "dataset = CIFData('data/sample-regression/dielectricity')\n",
    "test_loader = DataLoader(dataset, batch_size=256, shuffle=False, num_workers=0,\n",
    "                         collate_fn=collate_pool)\n",
    "\n",
    "# 加载模型\n",
    "best_model = torch.load('model_best.pth.tar', map_location=torch.device('cpu'))\n",
    "\n",
    "# 创建一个包装器类\n",
    "class ModelWrapper(torch.nn.Module):\n",
    "    def __init__(self, state_dict):\n",
    "        super().__init__()\n",
    "        self.state_dict = {k: v.cpu() for k, v in state_dict.items()}\n",
    "        print(\"ModelWrapper initialized with keys:\", self.state_dict.keys())\n",
    "\n",
    "    def forward(self, *args):\n",
    "        input_data = args[0]  # 获取输入数据\n",
    "        \n",
    "        # 调试输出\n",
    "        print(f\"Input data shape: {input_data.shape}\")\n",
    "        print(f\"fc_out.weight shape: {self.state_dict['fc_out.weight'].shape}\")\n",
    "        print(f\"fc_out.bias shape: {self.state_dict['fc_out.bias'].shape}\")\n",
    "        \n",
    "        # 确保输入是2D的\n",
    "        if input_data.dim() > 2:\n",
    "            input_data = input_data.view(-1, input_data.size(-1))\n",
    "        \n",
    "        # 如果输入特征数不匹配，我们需要调整输入\n",
    "        if input_data.shape[-1] < self.state_dict['fc_out.weight'].shape[1]:\n",
    "            print(f\"Padding input feature size from {input_data.shape[-1]} to {self.state_dict['fc_out.weight'].shape[1]}\")\n",
    "            padding = torch.zeros(input_data.size(0), self.state_dict['fc_out.weight'].shape[1] - input_data.size(1))\n",
    "            input_data = torch.cat([input_data, padding], dim=1)\n",
    "        elif input_data.shape[-1] > self.state_dict['fc_out.weight'].shape[1]:\n",
    "            print(f\"Truncating input feature size from {input_data.shape[-1]} to {self.state_dict['fc_out.weight'].shape[1]}\")\n",
    "            input_data = input_data[:, :self.state_dict['fc_out.weight'].shape[1]]\n",
    "        \n",
    "        # 矩阵乘法\n",
    "        output = torch.matmul(input_data, self.state_dict['fc_out.weight'].t()) + self.state_dict['fc_out.bias']\n",
    "        print(f\"Output shape: {output.shape}\")\n",
    "        return output\n",
    "\n",
    "# 使用包装器类创建模型\n",
    "model = ModelWrapper(best_model['state_dict'])\n",
    "\n",
    "# 准备数据\n",
    "X_test = []\n",
    "y_test = []\n",
    "for i, (input, target, _) in enumerate(test_loader):\n",
    "    X_test.append(input[0].cpu())\n",
    "    y_test.append(target.cpu())\n",
    "\n",
    "X_test = torch.cat(X_test, dim=0)\n",
    "y_test = torch.cat(y_test).numpy()\n",
    "\n",
    "print(f\"X_test shape: {X_test.shape}\")\n",
    "print(f\"y_test shape: {y_test.shape}\")\n",
    "print(\"X_test first few rows:\")\n",
    "print(X_test[:5])\n",
    "\n",
    "# 定义一个包装函数来适配SHAP\n",
    "def f(X):\n",
    "    with torch.no_grad():\n",
    "        X = torch.tensor(X, dtype=torch.float32)\n",
    "        if X.dim() == 2:\n",
    "            X = X.unsqueeze(0)  # 添加批次维度\n",
    "        output = model(X)\n",
    "    return output.numpy()\n",
    "\n",
    "# 创建SHAP解释器\n",
    "print(\"Shape of X_test[:100]:\", X_test[:100].shape)\n",
    "explainer = shap.KernelExplainer(f, X_test[:100].numpy())\n",
    "\n",
    "# 计算SHAP值\n",
    "sample_size = min(100, len(X_test))\n",
    "sample_data = X_test[:sample_size].numpy()\n",
    "shap_values = explainer.shap_values(sample_data)\n",
    "\n",
    "print(\"SHAP values shape:\", np.array(shap_values).shape)\n",
    "\n",
    "# 重塑SHAP值\n",
    "shap_values_reshaped = np.array(shap_values).reshape(sample_size, -1)\n",
    "print(\"Reshaped SHAP values shape:\", shap_values_reshaped.shape)\n",
    "\n",
    "# 可视化SHAP值\n",
    "plt.figure(figsize=(15, 10))\n",
    "shap.summary_plot(shap_values_reshaped, sample_data, plot_type=\"bar\", max_display=20)\n",
    "plt.tight_layout()\n",
    "plt.savefig('shap_summary.png', dpi=300, bbox_inches='tight')\n",
    "plt.close()\n",
    "\n",
    "print(\"SHAP analysis completed. Results saved in 'shap_summary.png'.\")\n",
    "\n",
    "# 打印前10个特征的重要性\n",
    "feature_importance = np.abs(shap_values_reshaped).mean(0)\n",
    "sorted_idx = feature_importance.argsort()\n",
    "print(\"\\nTop 10 most important features:\")\n",
    "for i in range(1, 11):\n",
    "    print(f\"Feature {sorted_idx[-i]}: {feature_importance[sorted_idx[-i]]:.4f}\")"
   ]
  },
  {
   "cell_type": "code",
   "execution_count": null,
   "metadata": {},
   "outputs": [],
   "source": []
  },
  {
   "cell_type": "code",
   "execution_count": 20,
   "metadata": {},
   "outputs": [
    {
     "name": "stdout",
     "output_type": "stream",
     "text": [
      "Dataset length: 711\n",
      "\n",
      "Sample structure:\n",
      "Sample type: <class 'tuple'>, length: 3\n",
      "\n",
      "Item 0:\n",
      "  Type: <class 'tuple'>\n",
      "  Length: 3\n",
      "    Sub-item 0: Tensor with shape torch.Size([32, 92]) and dtype torch.float32\n",
      "    Sub-item 1: Tensor with shape torch.Size([32, 12, 41]) and dtype torch.float32\n",
      "    Sub-item 2: Tensor with shape torch.Size([32, 12]) and dtype torch.int64\n",
      "\n",
      "Item 1:\n",
      "  Type: <class 'torch.Tensor'>\n",
      "  Shape: torch.Size([1])\n",
      "  dtype: torch.float32\n",
      "  Value: 2.3264262676239014\n",
      "\n",
      "Item 2:\n",
      "  Type: <class 'str'>\n",
      "  Value: C9Cl4F8H7NO3\n",
      "\n",
      "Sample id_prop_data:\n",
      "  C9Cl4F8H7NO3: 2.326426303\n",
      "  C29ClFH35N3O6: 2.798037066\n",
      "  C11FH10N3O2: 2.654976366\n",
      "  C17FH14NO3: 2.760385026\n",
      "  C17F6H14N2O3: 2.506814594\n",
      "\n",
      "Note: The exact meaning of features may require referring to the CGCNN implementation or documentation.\n"
     ]
    }
   ],
   "source": [
    "import torch\n",
    "from cgcnn.data import CIFData\n",
    "from cgcnn.data import collate_pool\n",
    "from torch.utils.data import DataLoader\n",
    "\n",
    "# 加载数据\n",
    "dataset = CIFData('data/sample-regression/dielectricity')\n",
    "\n",
    "print(\"Dataset length:\", len(dataset))\n",
    "\n",
    "# 获取一个样本数据\n",
    "sample = dataset[0]\n",
    "print(\"\\nSample structure:\")\n",
    "print(f\"Sample type: {type(sample)}, length: {len(sample)}\")\n",
    "\n",
    "# 详细检查样本的每个元素\n",
    "for i, item in enumerate(sample):\n",
    "    print(f\"\\nItem {i}:\")\n",
    "    print(f\"  Type: {type(item)}\")\n",
    "    if isinstance(item, tuple):\n",
    "        print(f\"  Length: {len(item)}\")\n",
    "        for j, sub_item in enumerate(item):\n",
    "            if isinstance(sub_item, torch.Tensor):\n",
    "                print(f\"    Sub-item {j}: Tensor with shape {sub_item.shape} and dtype {sub_item.dtype}\")\n",
    "            else:\n",
    "                print(f\"    Sub-item {j}: {type(sub_item)}\")\n",
    "    elif isinstance(item, torch.Tensor):\n",
    "        print(f\"  Shape: {item.shape}\")\n",
    "        print(f\"  dtype: {item.dtype}\")\n",
    "        print(f\"  Value: {item.item()}\")\n",
    "    elif isinstance(item, str):\n",
    "        print(f\"  Value: {item}\")\n",
    "\n",
    "# 打印一些 id_prop_data 的示例\n",
    "print(\"\\nSample id_prop_data:\")\n",
    "for i, (id, prop) in enumerate(dataset.id_prop_data[:5]):\n",
    "    print(f\"  {id}: {prop}\")\n",
    "\n",
    "print(\"\\nNote: The exact meaning of features may require referring to the CGCNN implementation or documentation.\")"
   ]
  },
  {
   "cell_type": "code",
   "execution_count": 21,
   "metadata": {},
   "outputs": [
    {
     "name": "stderr",
     "output_type": "stream",
     "text": [
      "d:\\conda\\envs\\cgcnn\\Lib\\site-packages\\pymatgen\\io\\cif.py:1224: UserWarning: Issues encountered while parsing CIF: 1 fractional coordinates rounded to ideal values to avoid issues with finite precision.\n",
      "  warnings.warn(\"Issues encountered while parsing CIF: \" + \"\\n\".join(self.warnings))\n",
      "c:\\Users\\ASUS\\Desktop\\文章整理_project2\\CGCNN\\cgcnn-master\\cgcnn\\data.py:333: UserWarning: C5FH4NO not find enough neighbors to build graph. If it happens frequently, consider increase radius.\n",
      "  warnings.warn('{} not find enough neighbors to build graph. '\n",
      "c:\\Users\\ASUS\\Desktop\\文章整理_project2\\CGCNN\\cgcnn-master\\cgcnn\\data.py:333: UserWarning: C5Cl2F2HNO not find enough neighbors to build graph. If it happens frequently, consider increase radius.\n",
      "  warnings.warn('{} not find enough neighbors to build graph. '\n",
      "c:\\Users\\ASUS\\Desktop\\文章整理_project2\\CGCNN\\cgcnn-master\\cgcnn\\data.py:333: UserWarning: C3F3H4NO not find enough neighbors to build graph. If it happens frequently, consider increase radius.\n",
      "  warnings.warn('{} not find enough neighbors to build graph. '\n",
      "c:\\Users\\ASUS\\Desktop\\文章整理_project2\\CGCNN\\cgcnn-master\\cgcnn\\data.py:333: UserWarning: C2ClF2H2NO not find enough neighbors to build graph. If it happens frequently, consider increase radius.\n",
      "  warnings.warn('{} not find enough neighbors to build graph. '\n",
      "c:\\Users\\ASUS\\Desktop\\文章整理_project2\\CGCNN\\cgcnn-master\\cgcnn\\data.py:333: UserWarning: C4FH3N2O not find enough neighbors to build graph. If it happens frequently, consider increase radius.\n",
      "  warnings.warn('{} not find enough neighbors to build graph. '\n",
      "c:\\Users\\ASUS\\Desktop\\文章整理_project2\\CGCNN\\cgcnn-master\\cgcnn\\data.py:333: UserWarning: C2F3H2NO not find enough neighbors to build graph. If it happens frequently, consider increase radius.\n",
      "  warnings.warn('{} not find enough neighbors to build graph. '\n",
      "c:\\Users\\ASUS\\Desktop\\文章整理_project2\\CGCNN\\cgcnn-master\\cgcnn\\data.py:333: UserWarning: C3F5H2NO not find enough neighbors to build graph. If it happens frequently, consider increase radius.\n",
      "  warnings.warn('{} not find enough neighbors to build graph. '\n"
     ]
    },
    {
     "name": "stdout",
     "output_type": "stream",
     "text": [
      "Visualizations saved as 'feature_visualization.png' and 'top_features_analysis.png'\n"
     ]
    }
   ],
   "source": [
    "###################数据降维PCA/t-SNE，特征可视化###############\n",
    "import torch\n",
    "from cgcnn.data import CIFData\n",
    "import numpy as np\n",
    "from sklearn.decomposition import PCA\n",
    "from sklearn.manifold import TSNE\n",
    "import matplotlib.pyplot as plt\n",
    "import seaborn as sns\n",
    "\n",
    "# 加载数据\n",
    "dataset = CIFData('data/sample-regression/dielectricity')\n",
    "\n",
    "# 提取特征和标签\n",
    "features = []\n",
    "labels = []\n",
    "for i in range(len(dataset)):\n",
    "    sample = dataset[i]\n",
    "    atom_features = sample[0][0]  # 假设这是原子特征\n",
    "    features.append(atom_features.mean(dim=0).numpy())  # 取平均值作为分子特征\n",
    "    labels.append(sample[1].item())\n",
    "\n",
    "features = np.array(features)\n",
    "labels = np.array(labels)\n",
    "\n",
    "# 应用 PCA\n",
    "pca = PCA(n_components=2)\n",
    "features_pca = pca.fit_transform(features)\n",
    "\n",
    "# 应用 t-SNE\n",
    "tsne = TSNE(n_components=2, random_state=42)\n",
    "features_tsne = tsne.fit_transform(features)\n",
    "\n",
    "# 可视化 PCA 结果\n",
    "plt.figure(figsize=(12, 5))\n",
    "plt.subplot(121)\n",
    "scatter = plt.scatter(features_pca[:, 0], features_pca[:, 1], c=labels, cmap='viridis')\n",
    "plt.colorbar(scatter, label='Dielectric Constant')\n",
    "plt.title('PCA Visualization')\n",
    "plt.xlabel('First Principal Component')\n",
    "plt.ylabel('Second Principal Component')\n",
    "\n",
    "# 可视化 t-SNE 结果\n",
    "plt.subplot(122)\n",
    "scatter = plt.scatter(features_tsne[:, 0], features_tsne[:, 1], c=labels, cmap='viridis')\n",
    "plt.colorbar(scatter, label='Dielectric Constant')\n",
    "plt.title('t-SNE Visualization')\n",
    "plt.xlabel('t-SNE Feature 1')\n",
    "plt.ylabel('t-SNE Feature 2')\n",
    "\n",
    "plt.tight_layout()\n",
    "plt.savefig('feature_visualization.png')\n",
    "plt.close()\n",
    "\n",
    "# 分析 SHAP 重要性最高的特征\n",
    "top_features = [49, 73, 78, 46, 74]  # 根据之前的 SHAP 分析结果\n",
    "plt.figure(figsize=(12, 8))\n",
    "for i, feature in enumerate(top_features):\n",
    "    plt.subplot(2, 3, i+1)\n",
    "    plt.scatter(features[:, feature], labels)\n",
    "    plt.title(f'Feature {feature}')\n",
    "    plt.xlabel('Feature Value')\n",
    "    plt.ylabel('Dielectric Constant')\n",
    "\n",
    "plt.tight_layout()\n",
    "plt.savefig('top_features_analysis.png')\n",
    "plt.close()\n",
    "\n",
    "print(\"Visualizations saved as 'feature_visualization.png' and 'top_features_analysis.png'\")"
   ]
  },
  {
   "cell_type": "code",
   "execution_count": 24,
   "metadata": {},
   "outputs": [
    {
     "name": "stdout",
     "output_type": "stream",
     "text": [
      "SHAP dependence plot for feature 49 saved.\n",
      "SHAP dependence plot for feature 73 saved.\n",
      "SHAP dependence plot for feature 78 saved.\n",
      "SHAP dependence plot for feature 46 saved.\n",
      "SHAP dependence plot for feature 74 saved.\n",
      "SHAP dependence plots completed.\n",
      "SHAP dependence plot for feature 49 saved.\n"
     ]
    },
    {
     "data": {
      "text/plain": [
       "<Figure size 1000x700 with 0 Axes>"
      ]
     },
     "metadata": {},
     "output_type": "display_data"
    },
    {
     "data": {
      "text/plain": [
       "<Figure size 1000x700 with 0 Axes>"
      ]
     },
     "metadata": {},
     "output_type": "display_data"
    },
    {
     "data": {
      "text/plain": [
       "<Figure size 1000x700 with 0 Axes>"
      ]
     },
     "metadata": {},
     "output_type": "display_data"
    },
    {
     "data": {
      "text/plain": [
       "<Figure size 1000x700 with 0 Axes>"
      ]
     },
     "metadata": {},
     "output_type": "display_data"
    },
    {
     "data": {
      "text/plain": [
       "<Figure size 1000x700 with 0 Axes>"
      ]
     },
     "metadata": {},
     "output_type": "display_data"
    },
    {
     "data": {
      "text/plain": [
       "<Figure size 1000x700 with 0 Axes>"
      ]
     },
     "metadata": {},
     "output_type": "display_data"
    }
   ],
   "source": [
    "# 绘制某个特征的 SHAP 值影响图\n",
    "def plot_feature_shap(feature_index, shap_values, input_data, feature_names=None):\n",
    "    plt.figure(figsize=(10, 7))\n",
    "    shap.dependence_plot(\n",
    "        feature_index, \n",
    "        shap_values_reshaped, \n",
    "        sample_data,\n",
    "        feature_names=feature_names,\n",
    "        show=False\n",
    "    )\n",
    "    plt.title(f\"SHAP Dependence Plot for Feature {feature_index}\")\n",
    "    plt.tight_layout()\n",
    "    plt.savefig(f'shap_dependence_feature_{feature_index}.png', dpi=300, bbox_inches='tight')\n",
    "    plt.close()\n",
    "\n",
    "# 获取特征名称（如果有的话）\n",
    "feature_names = [f\"Feature_{i}\" for i in range(sample_data.shape[1])]\n",
    "\n",
    "# 绘制前5个最重要特征的 SHAP 值影响图\n",
    "for i in range(5):\n",
    "    feature_index = sorted_idx[-(i+1)]\n",
    "    plot_feature_shap(feature_index, shap_values_reshaped, sample_data, feature_names)\n",
    "    print(f\"SHAP dependence plot for feature {feature_index} saved.\")\n",
    "\n",
    "print(\"SHAP dependence plots completed.\")\n",
    "# 绘制第49个特征的 SHAP 值影响图\n",
    "feature_index = 49\n",
    "plot_feature_shap(feature_index, shap_values_reshaped, sample_data, feature_names)\n",
    "print(f\"SHAP dependence plot for feature {feature_index} saved.\")"
   ]
  }
 ],
 "metadata": {
  "kernelspec": {
   "display_name": "cgcnn",
   "language": "python",
   "name": "python3"
  },
  "language_info": {
   "codemirror_mode": {
    "name": "ipython",
    "version": 3
   },
   "file_extension": ".py",
   "mimetype": "text/x-python",
   "name": "python",
   "nbconvert_exporter": "python",
   "pygments_lexer": "ipython3",
   "version": "3.11.8"
  }
 },
 "nbformat": 4,
 "nbformat_minor": 2
}
